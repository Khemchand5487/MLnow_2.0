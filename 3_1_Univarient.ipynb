{
  "nbformat": 4,
  "nbformat_minor": 0,
  "metadata": {
    "colab": {
      "name": "3.1_Univarient.ipynb",
      "provenance": [],
      "authorship_tag": "ABX9TyMqohlDJxzW086dMGtzvmN/",
      "include_colab_link": true
    },
    "kernelspec": {
      "name": "python3",
      "display_name": "Python 3"
    },
    "language_info": {
      "name": "python"
    }
  },
  "cells": [
    {
      "cell_type": "markdown",
      "metadata": {
        "id": "view-in-github",
        "colab_type": "text"
      },
      "source": [
        "<a href=\"https://colab.research.google.com/github/Khemchand5487/MLnow_2.0/blob/main/3_1_Univarient.ipynb\" target=\"_parent\"><img src=\"https://colab.research.google.com/assets/colab-badge.svg\" alt=\"Open In Colab\"/></a>"
      ]
    },
    {
      "cell_type": "markdown",
      "metadata": {
        "id": "dqBsaAYwjGrb"
      },
      "source": [
        "#Univarient Linear Regression\n",
        "\n",
        "[Link to Download the dataset](https://archive.ics.uci.edu/ml/datasets/Student+Performance)\n",
        "\n",
        "**Date Created**: June 6, 2021\n",
        "\n",
        "\n",
        "**Author**:\n",
        " Khem chand\n",
        "\n",
        "**Reach out**:\n",
        "[GitHub](https://github.com/khemchand5487) | [LinkedIn](https://www.linkedin.com/in/khemchand5487/)\n",
        "\n",
        "[[Course Repository](https://github.com/Khemchand5487/Learning-Machine-Learning)]"
      ]
    },
    {
      "cell_type": "code",
      "metadata": {
        "colab": {
          "base_uri": "https://localhost:8080/"
        },
        "id": "3BFUG5JMibM9",
        "outputId": "7e51a165-38ef-48fa-f4f4-3d350456d064"
      },
      "source": [
        "from google.colab import drive\n",
        "drive.mount('/content/drive')"
      ],
      "execution_count": 1,
      "outputs": [
        {
          "output_type": "stream",
          "text": [
            "Mounted at /content/drive\n"
          ],
          "name": "stdout"
        }
      ]
    },
    {
      "cell_type": "code",
      "metadata": {
        "colab": {
          "base_uri": "https://localhost:8080/"
        },
        "id": "dkBaicP-kKoA",
        "outputId": "ddc1c12d-8dd9-4f3f-835a-ba3235bf2e37"
      },
      "source": [
        "cd '/content/drive/MyDrive/machine learning/02_EDA/student'"
      ],
      "execution_count": 2,
      "outputs": [
        {
          "output_type": "stream",
          "text": [
            "/content/drive/MyDrive/machine learning/02_EDA/student\n"
          ],
          "name": "stdout"
        }
      ]
    },
    {
      "cell_type": "code",
      "metadata": {
        "id": "SgvIOb-TswsS"
      },
      "source": [
        "import pandas as pd #working with csv or excel files\n",
        "import numpy as np #working with numbers/ arrays/ tensors\n",
        "import tensorflow as tf #framework\n",
        "from tensorflow import keras #API / library \n",
        "import os #using os commands between the python language"
      ],
      "execution_count": 3,
      "outputs": []
    },
    {
      "cell_type": "code",
      "metadata": {
        "id": "kK7KHdaJs6GR"
      },
      "source": [
        "mathData = pd.read_csv('student-mat.csv', sep=';') #load the csv file as dataframe"
      ],
      "execution_count": 4,
      "outputs": []
    },
    {
      "cell_type": "code",
      "metadata": {
        "colab": {
          "base_uri": "https://localhost:8080/",
          "height": 363
        },
        "id": "Ap9dtsNztzDy",
        "outputId": "545c8b75-096e-43fd-b592-0cc3d8106009"
      },
      "source": [
        "mathData.head(10) #print the first ten rows of the dataframe"
      ],
      "execution_count": 5,
      "outputs": [
        {
          "output_type": "execute_result",
          "data": {
            "text/html": [
              "<div>\n",
              "<style scoped>\n",
              "    .dataframe tbody tr th:only-of-type {\n",
              "        vertical-align: middle;\n",
              "    }\n",
              "\n",
              "    .dataframe tbody tr th {\n",
              "        vertical-align: top;\n",
              "    }\n",
              "\n",
              "    .dataframe thead th {\n",
              "        text-align: right;\n",
              "    }\n",
              "</style>\n",
              "<table border=\"1\" class=\"dataframe\">\n",
              "  <thead>\n",
              "    <tr style=\"text-align: right;\">\n",
              "      <th></th>\n",
              "      <th>school</th>\n",
              "      <th>sex</th>\n",
              "      <th>age</th>\n",
              "      <th>address</th>\n",
              "      <th>famsize</th>\n",
              "      <th>Pstatus</th>\n",
              "      <th>Medu</th>\n",
              "      <th>Fedu</th>\n",
              "      <th>Mjob</th>\n",
              "      <th>Fjob</th>\n",
              "      <th>reason</th>\n",
              "      <th>guardian</th>\n",
              "      <th>traveltime</th>\n",
              "      <th>studytime</th>\n",
              "      <th>failures</th>\n",
              "      <th>schoolsup</th>\n",
              "      <th>famsup</th>\n",
              "      <th>paid</th>\n",
              "      <th>activities</th>\n",
              "      <th>nursery</th>\n",
              "      <th>higher</th>\n",
              "      <th>internet</th>\n",
              "      <th>romantic</th>\n",
              "      <th>famrel</th>\n",
              "      <th>freetime</th>\n",
              "      <th>goout</th>\n",
              "      <th>Dalc</th>\n",
              "      <th>Walc</th>\n",
              "      <th>health</th>\n",
              "      <th>absences</th>\n",
              "      <th>G1</th>\n",
              "      <th>G2</th>\n",
              "      <th>G3</th>\n",
              "    </tr>\n",
              "  </thead>\n",
              "  <tbody>\n",
              "    <tr>\n",
              "      <th>0</th>\n",
              "      <td>GP</td>\n",
              "      <td>F</td>\n",
              "      <td>18</td>\n",
              "      <td>U</td>\n",
              "      <td>GT3</td>\n",
              "      <td>A</td>\n",
              "      <td>4</td>\n",
              "      <td>4</td>\n",
              "      <td>at_home</td>\n",
              "      <td>teacher</td>\n",
              "      <td>course</td>\n",
              "      <td>mother</td>\n",
              "      <td>2</td>\n",
              "      <td>2</td>\n",
              "      <td>0</td>\n",
              "      <td>yes</td>\n",
              "      <td>no</td>\n",
              "      <td>no</td>\n",
              "      <td>no</td>\n",
              "      <td>yes</td>\n",
              "      <td>yes</td>\n",
              "      <td>no</td>\n",
              "      <td>no</td>\n",
              "      <td>4</td>\n",
              "      <td>3</td>\n",
              "      <td>4</td>\n",
              "      <td>1</td>\n",
              "      <td>1</td>\n",
              "      <td>3</td>\n",
              "      <td>6</td>\n",
              "      <td>5</td>\n",
              "      <td>6</td>\n",
              "      <td>6</td>\n",
              "    </tr>\n",
              "    <tr>\n",
              "      <th>1</th>\n",
              "      <td>GP</td>\n",
              "      <td>F</td>\n",
              "      <td>17</td>\n",
              "      <td>U</td>\n",
              "      <td>GT3</td>\n",
              "      <td>T</td>\n",
              "      <td>1</td>\n",
              "      <td>1</td>\n",
              "      <td>at_home</td>\n",
              "      <td>other</td>\n",
              "      <td>course</td>\n",
              "      <td>father</td>\n",
              "      <td>1</td>\n",
              "      <td>2</td>\n",
              "      <td>0</td>\n",
              "      <td>no</td>\n",
              "      <td>yes</td>\n",
              "      <td>no</td>\n",
              "      <td>no</td>\n",
              "      <td>no</td>\n",
              "      <td>yes</td>\n",
              "      <td>yes</td>\n",
              "      <td>no</td>\n",
              "      <td>5</td>\n",
              "      <td>3</td>\n",
              "      <td>3</td>\n",
              "      <td>1</td>\n",
              "      <td>1</td>\n",
              "      <td>3</td>\n",
              "      <td>4</td>\n",
              "      <td>5</td>\n",
              "      <td>5</td>\n",
              "      <td>6</td>\n",
              "    </tr>\n",
              "    <tr>\n",
              "      <th>2</th>\n",
              "      <td>GP</td>\n",
              "      <td>F</td>\n",
              "      <td>15</td>\n",
              "      <td>U</td>\n",
              "      <td>LE3</td>\n",
              "      <td>T</td>\n",
              "      <td>1</td>\n",
              "      <td>1</td>\n",
              "      <td>at_home</td>\n",
              "      <td>other</td>\n",
              "      <td>other</td>\n",
              "      <td>mother</td>\n",
              "      <td>1</td>\n",
              "      <td>2</td>\n",
              "      <td>3</td>\n",
              "      <td>yes</td>\n",
              "      <td>no</td>\n",
              "      <td>yes</td>\n",
              "      <td>no</td>\n",
              "      <td>yes</td>\n",
              "      <td>yes</td>\n",
              "      <td>yes</td>\n",
              "      <td>no</td>\n",
              "      <td>4</td>\n",
              "      <td>3</td>\n",
              "      <td>2</td>\n",
              "      <td>2</td>\n",
              "      <td>3</td>\n",
              "      <td>3</td>\n",
              "      <td>10</td>\n",
              "      <td>7</td>\n",
              "      <td>8</td>\n",
              "      <td>10</td>\n",
              "    </tr>\n",
              "    <tr>\n",
              "      <th>3</th>\n",
              "      <td>GP</td>\n",
              "      <td>F</td>\n",
              "      <td>15</td>\n",
              "      <td>U</td>\n",
              "      <td>GT3</td>\n",
              "      <td>T</td>\n",
              "      <td>4</td>\n",
              "      <td>2</td>\n",
              "      <td>health</td>\n",
              "      <td>services</td>\n",
              "      <td>home</td>\n",
              "      <td>mother</td>\n",
              "      <td>1</td>\n",
              "      <td>3</td>\n",
              "      <td>0</td>\n",
              "      <td>no</td>\n",
              "      <td>yes</td>\n",
              "      <td>yes</td>\n",
              "      <td>yes</td>\n",
              "      <td>yes</td>\n",
              "      <td>yes</td>\n",
              "      <td>yes</td>\n",
              "      <td>yes</td>\n",
              "      <td>3</td>\n",
              "      <td>2</td>\n",
              "      <td>2</td>\n",
              "      <td>1</td>\n",
              "      <td>1</td>\n",
              "      <td>5</td>\n",
              "      <td>2</td>\n",
              "      <td>15</td>\n",
              "      <td>14</td>\n",
              "      <td>15</td>\n",
              "    </tr>\n",
              "    <tr>\n",
              "      <th>4</th>\n",
              "      <td>GP</td>\n",
              "      <td>F</td>\n",
              "      <td>16</td>\n",
              "      <td>U</td>\n",
              "      <td>GT3</td>\n",
              "      <td>T</td>\n",
              "      <td>3</td>\n",
              "      <td>3</td>\n",
              "      <td>other</td>\n",
              "      <td>other</td>\n",
              "      <td>home</td>\n",
              "      <td>father</td>\n",
              "      <td>1</td>\n",
              "      <td>2</td>\n",
              "      <td>0</td>\n",
              "      <td>no</td>\n",
              "      <td>yes</td>\n",
              "      <td>yes</td>\n",
              "      <td>no</td>\n",
              "      <td>yes</td>\n",
              "      <td>yes</td>\n",
              "      <td>no</td>\n",
              "      <td>no</td>\n",
              "      <td>4</td>\n",
              "      <td>3</td>\n",
              "      <td>2</td>\n",
              "      <td>1</td>\n",
              "      <td>2</td>\n",
              "      <td>5</td>\n",
              "      <td>4</td>\n",
              "      <td>6</td>\n",
              "      <td>10</td>\n",
              "      <td>10</td>\n",
              "    </tr>\n",
              "    <tr>\n",
              "      <th>5</th>\n",
              "      <td>GP</td>\n",
              "      <td>M</td>\n",
              "      <td>16</td>\n",
              "      <td>U</td>\n",
              "      <td>LE3</td>\n",
              "      <td>T</td>\n",
              "      <td>4</td>\n",
              "      <td>3</td>\n",
              "      <td>services</td>\n",
              "      <td>other</td>\n",
              "      <td>reputation</td>\n",
              "      <td>mother</td>\n",
              "      <td>1</td>\n",
              "      <td>2</td>\n",
              "      <td>0</td>\n",
              "      <td>no</td>\n",
              "      <td>yes</td>\n",
              "      <td>yes</td>\n",
              "      <td>yes</td>\n",
              "      <td>yes</td>\n",
              "      <td>yes</td>\n",
              "      <td>yes</td>\n",
              "      <td>no</td>\n",
              "      <td>5</td>\n",
              "      <td>4</td>\n",
              "      <td>2</td>\n",
              "      <td>1</td>\n",
              "      <td>2</td>\n",
              "      <td>5</td>\n",
              "      <td>10</td>\n",
              "      <td>15</td>\n",
              "      <td>15</td>\n",
              "      <td>15</td>\n",
              "    </tr>\n",
              "    <tr>\n",
              "      <th>6</th>\n",
              "      <td>GP</td>\n",
              "      <td>M</td>\n",
              "      <td>16</td>\n",
              "      <td>U</td>\n",
              "      <td>LE3</td>\n",
              "      <td>T</td>\n",
              "      <td>2</td>\n",
              "      <td>2</td>\n",
              "      <td>other</td>\n",
              "      <td>other</td>\n",
              "      <td>home</td>\n",
              "      <td>mother</td>\n",
              "      <td>1</td>\n",
              "      <td>2</td>\n",
              "      <td>0</td>\n",
              "      <td>no</td>\n",
              "      <td>no</td>\n",
              "      <td>no</td>\n",
              "      <td>no</td>\n",
              "      <td>yes</td>\n",
              "      <td>yes</td>\n",
              "      <td>yes</td>\n",
              "      <td>no</td>\n",
              "      <td>4</td>\n",
              "      <td>4</td>\n",
              "      <td>4</td>\n",
              "      <td>1</td>\n",
              "      <td>1</td>\n",
              "      <td>3</td>\n",
              "      <td>0</td>\n",
              "      <td>12</td>\n",
              "      <td>12</td>\n",
              "      <td>11</td>\n",
              "    </tr>\n",
              "    <tr>\n",
              "      <th>7</th>\n",
              "      <td>GP</td>\n",
              "      <td>F</td>\n",
              "      <td>17</td>\n",
              "      <td>U</td>\n",
              "      <td>GT3</td>\n",
              "      <td>A</td>\n",
              "      <td>4</td>\n",
              "      <td>4</td>\n",
              "      <td>other</td>\n",
              "      <td>teacher</td>\n",
              "      <td>home</td>\n",
              "      <td>mother</td>\n",
              "      <td>2</td>\n",
              "      <td>2</td>\n",
              "      <td>0</td>\n",
              "      <td>yes</td>\n",
              "      <td>yes</td>\n",
              "      <td>no</td>\n",
              "      <td>no</td>\n",
              "      <td>yes</td>\n",
              "      <td>yes</td>\n",
              "      <td>no</td>\n",
              "      <td>no</td>\n",
              "      <td>4</td>\n",
              "      <td>1</td>\n",
              "      <td>4</td>\n",
              "      <td>1</td>\n",
              "      <td>1</td>\n",
              "      <td>1</td>\n",
              "      <td>6</td>\n",
              "      <td>6</td>\n",
              "      <td>5</td>\n",
              "      <td>6</td>\n",
              "    </tr>\n",
              "    <tr>\n",
              "      <th>8</th>\n",
              "      <td>GP</td>\n",
              "      <td>M</td>\n",
              "      <td>15</td>\n",
              "      <td>U</td>\n",
              "      <td>LE3</td>\n",
              "      <td>A</td>\n",
              "      <td>3</td>\n",
              "      <td>2</td>\n",
              "      <td>services</td>\n",
              "      <td>other</td>\n",
              "      <td>home</td>\n",
              "      <td>mother</td>\n",
              "      <td>1</td>\n",
              "      <td>2</td>\n",
              "      <td>0</td>\n",
              "      <td>no</td>\n",
              "      <td>yes</td>\n",
              "      <td>yes</td>\n",
              "      <td>no</td>\n",
              "      <td>yes</td>\n",
              "      <td>yes</td>\n",
              "      <td>yes</td>\n",
              "      <td>no</td>\n",
              "      <td>4</td>\n",
              "      <td>2</td>\n",
              "      <td>2</td>\n",
              "      <td>1</td>\n",
              "      <td>1</td>\n",
              "      <td>1</td>\n",
              "      <td>0</td>\n",
              "      <td>16</td>\n",
              "      <td>18</td>\n",
              "      <td>19</td>\n",
              "    </tr>\n",
              "    <tr>\n",
              "      <th>9</th>\n",
              "      <td>GP</td>\n",
              "      <td>M</td>\n",
              "      <td>15</td>\n",
              "      <td>U</td>\n",
              "      <td>GT3</td>\n",
              "      <td>T</td>\n",
              "      <td>3</td>\n",
              "      <td>4</td>\n",
              "      <td>other</td>\n",
              "      <td>other</td>\n",
              "      <td>home</td>\n",
              "      <td>mother</td>\n",
              "      <td>1</td>\n",
              "      <td>2</td>\n",
              "      <td>0</td>\n",
              "      <td>no</td>\n",
              "      <td>yes</td>\n",
              "      <td>yes</td>\n",
              "      <td>yes</td>\n",
              "      <td>yes</td>\n",
              "      <td>yes</td>\n",
              "      <td>yes</td>\n",
              "      <td>no</td>\n",
              "      <td>5</td>\n",
              "      <td>5</td>\n",
              "      <td>1</td>\n",
              "      <td>1</td>\n",
              "      <td>1</td>\n",
              "      <td>5</td>\n",
              "      <td>0</td>\n",
              "      <td>14</td>\n",
              "      <td>15</td>\n",
              "      <td>15</td>\n",
              "    </tr>\n",
              "  </tbody>\n",
              "</table>\n",
              "</div>"
            ],
            "text/plain": [
              "  school sex  age address famsize Pstatus  ...  Walc  health absences  G1  G2  G3\n",
              "0     GP   F   18       U     GT3       A  ...     1       3        6   5   6   6\n",
              "1     GP   F   17       U     GT3       T  ...     1       3        4   5   5   6\n",
              "2     GP   F   15       U     LE3       T  ...     3       3       10   7   8  10\n",
              "3     GP   F   15       U     GT3       T  ...     1       5        2  15  14  15\n",
              "4     GP   F   16       U     GT3       T  ...     2       5        4   6  10  10\n",
              "5     GP   M   16       U     LE3       T  ...     2       5       10  15  15  15\n",
              "6     GP   M   16       U     LE3       T  ...     1       3        0  12  12  11\n",
              "7     GP   F   17       U     GT3       A  ...     1       1        6   6   5   6\n",
              "8     GP   M   15       U     LE3       A  ...     1       1        0  16  18  19\n",
              "9     GP   M   15       U     GT3       T  ...     1       5        0  14  15  15\n",
              "\n",
              "[10 rows x 33 columns]"
            ]
          },
          "metadata": {
            "tags": []
          },
          "execution_count": 5
        }
      ]
    },
    {
      "cell_type": "code",
      "metadata": {
        "colab": {
          "base_uri": "https://localhost:8080/",
          "height": 195
        },
        "id": "i-gtRpaowBmB",
        "outputId": "093cb00a-c656-4924-ab58-ecd5e714b658"
      },
      "source": [
        "uniMathData = mathData[['G1', 'G3']]\n",
        "uniMathData.head(5)"
      ],
      "execution_count": 6,
      "outputs": [
        {
          "output_type": "execute_result",
          "data": {
            "text/html": [
              "<div>\n",
              "<style scoped>\n",
              "    .dataframe tbody tr th:only-of-type {\n",
              "        vertical-align: middle;\n",
              "    }\n",
              "\n",
              "    .dataframe tbody tr th {\n",
              "        vertical-align: top;\n",
              "    }\n",
              "\n",
              "    .dataframe thead th {\n",
              "        text-align: right;\n",
              "    }\n",
              "</style>\n",
              "<table border=\"1\" class=\"dataframe\">\n",
              "  <thead>\n",
              "    <tr style=\"text-align: right;\">\n",
              "      <th></th>\n",
              "      <th>G1</th>\n",
              "      <th>G3</th>\n",
              "    </tr>\n",
              "  </thead>\n",
              "  <tbody>\n",
              "    <tr>\n",
              "      <th>0</th>\n",
              "      <td>5</td>\n",
              "      <td>6</td>\n",
              "    </tr>\n",
              "    <tr>\n",
              "      <th>1</th>\n",
              "      <td>5</td>\n",
              "      <td>6</td>\n",
              "    </tr>\n",
              "    <tr>\n",
              "      <th>2</th>\n",
              "      <td>7</td>\n",
              "      <td>10</td>\n",
              "    </tr>\n",
              "    <tr>\n",
              "      <th>3</th>\n",
              "      <td>15</td>\n",
              "      <td>15</td>\n",
              "    </tr>\n",
              "    <tr>\n",
              "      <th>4</th>\n",
              "      <td>6</td>\n",
              "      <td>10</td>\n",
              "    </tr>\n",
              "  </tbody>\n",
              "</table>\n",
              "</div>"
            ],
            "text/plain": [
              "   G1  G3\n",
              "0   5   6\n",
              "1   5   6\n",
              "2   7  10\n",
              "3  15  15\n",
              "4   6  10"
            ]
          },
          "metadata": {
            "tags": []
          },
          "execution_count": 6
        }
      ]
    },
    {
      "cell_type": "code",
      "metadata": {
        "id": "CJ3ux6G_wF6G"
      },
      "source": [
        "uniMathData.to_csv('univariate_MathData_2.csv')"
      ],
      "execution_count": 7,
      "outputs": []
    },
    {
      "cell_type": "code",
      "metadata": {
        "colab": {
          "base_uri": "https://localhost:8080/",
          "height": 157
        },
        "id": "-qVSc6AWwd8J",
        "outputId": "48529c25-ffca-4af3-a657-e629bc26330c"
      },
      "source": [
        "import seaborn as sns\n",
        "sns.palplot(sns.color_palette('PuOr')) #Purple to Orange colors\n",
        "pal = sns.color_palette('PuOr', 6) #print 6 color shades from Purple to Orange\n",
        "pal.as_hex() #set hex code values for colors\n",
        "\n",
        "import matplotlib.pyplot as plt\n",
        "plt.style.use(['seaborn'])\n",
        "sns_colors = ['#c6690c', '#664697'] #orange Purple hex codes\n",
        "sns.set_palette(sns_colors) #set the palette as sns_colors \n",
        "sns.palplot(sns.color_palette(sns_colors)) #plot the color codes"
      ],
      "execution_count": 8,
      "outputs": [
        {
          "output_type": "display_data",
          "data": {
            "image/png": "[encoded data removed]",
            "text/plain": [
              "<Figure size 432x72 with 1 Axes>"
            ]
          },
          "metadata": {
            "tags": [],
            "needs_background": "light"
          }
        },
        {
          "output_type": "display_data",
          "data": {
            "image/png": "[encoded data removed]",
            "text/plain": [
              "<Figure size 144x72 with 1 Axes>"
            ]
          },
          "metadata": {
            "tags": []
          }
        }
      ]
    },
    {
      "cell_type": "code",
      "metadata": {
        "colab": {
          "base_uri": "https://localhost:8080/"
        },
        "id": "4rvknuNvwi4z",
        "outputId": "9bd640aa-81fe-47a9-a215-443e4f6149a6"
      },
      "source": [
        "uniMathData.columns #columns in the dataframe"
      ],
      "execution_count": 9,
      "outputs": [
        {
          "output_type": "execute_result",
          "data": {
            "text/plain": [
              "Index(['G1', 'G3'], dtype='object')"
            ]
          },
          "metadata": {
            "tags": []
          },
          "execution_count": 9
        }
      ]
    },
    {
      "cell_type": "code",
      "metadata": {
        "colab": {
          "base_uri": "https://localhost:8080/",
          "height": 391
        },
        "id": "Rb4Vpm7Hwlpn",
        "outputId": "73553198-95e3-438d-af44-1c102bda2b1e"
      },
      "source": [
        "#pairplot for all the values\n",
        "\n",
        "sns.pairplot(uniMathData,\n",
        "             x_vars = ['G1', 'G3'],\n",
        "             y_vars =  ['G1', 'G3'],\n",
        "       diag_kind='kde'\n",
        "             )"
      ],
      "execution_count": 10,
      "outputs": [
        {
          "output_type": "execute_result",
          "data": {
            "text/plain": [
              "<seaborn.axisgrid.PairGrid at 0x7fa428facfd0>"
            ]
          },
          "metadata": {
            "tags": []
          },
          "execution_count": 10
        },
        {
          "output_type": "display_data",
          "data": {
            "image/png": "[encoded data removed]",
            "text/plain": [
              "<Figure size 360x360 with 6 Axes>"
            ]
          },
          "metadata": {
            "tags": []
          }
        }
      ]
    },
    {
      "cell_type": "code",
      "metadata": {
        "colab": {
          "base_uri": "https://localhost:8080/"
        },
        "id": "VSq96sY9wpC7",
        "outputId": "a923beff-2a28-47ee-f7a7-018de0ec2471"
      },
      "source": [
        "#80-20 train-test percent split\n",
        "\n",
        "trainDataset = uniMathData.sample(frac=0.8, random_state=0) \n",
        "testDataset = uniMathData.drop(trainDataset.index)\n",
        "\n",
        "print(trainDataset.head())\n",
        "print(testDataset.head())"
      ],
      "execution_count": 11,
      "outputs": [
        {
          "output_type": "stream",
          "text": [
            "     G1  G3\n",
            "329  14  14\n",
            "318  11  10\n",
            "317   9   9\n",
            "65   16  15\n",
            "59   15  16\n",
            "    G1  G3\n",
            "9   14  15\n",
            "25   6   8\n",
            "28  11  11\n",
            "31  17  17\n",
            "32  17  16\n"
          ],
          "name": "stdout"
        }
      ]
    },
    {
      "cell_type": "code",
      "metadata": {
        "colab": {
          "base_uri": "https://localhost:8080/"
        },
        "id": "Ij7KQd7Fwvze",
        "outputId": "3035dd9f-8d16-4c04-a7ce-cb825dcbeb55"
      },
      "source": [
        "print(trainDataset.shape)\n",
        "print(testDataset.shape)"
      ],
      "execution_count": 12,
      "outputs": [
        {
          "output_type": "stream",
          "text": [
            "(316, 2)\n",
            "(79, 2)\n"
          ],
          "name": "stdout"
        }
      ]
    },
    {
      "cell_type": "code",
      "metadata": {
        "colab": {
          "base_uri": "https://localhost:8080/"
        },
        "id": "LoGFgP3NxDFJ",
        "outputId": "283c2f87-d51a-45c7-d99a-0136990098b2"
      },
      "source": [
        "#copy the trainDataset dataframe for getting the features\n",
        "\n",
        "trainFeatures = trainDataset.copy()\n",
        "testFeatures = testDataset.copy()\n",
        "\n",
        "print(trainFeatures.head())\n",
        "print(testFeatures.head())"
      ],
      "execution_count": 13,
      "outputs": [
        {
          "output_type": "stream",
          "text": [
            "     G1  G3\n",
            "329  14  14\n",
            "318  11  10\n",
            "317   9   9\n",
            "65   16  15\n",
            "59   15  16\n",
            "    G1  G3\n",
            "9   14  15\n",
            "25   6   8\n",
            "28  11  11\n",
            "31  17  17\n",
            "32  17  16\n"
          ],
          "name": "stdout"
        }
      ]
    },
    {
      "cell_type": "code",
      "metadata": {
        "colab": {
          "base_uri": "https://localhost:8080/"
        },
        "id": "0Q467krexFQU",
        "outputId": "325bf100-5fbc-4126-eeba-10adeb190261"
      },
      "source": [
        "#removing the G3 column and saving it into the labels variable\n",
        "\n",
        "trainLabels = trainFeatures.pop('G3')\n",
        "testLabels = testFeatures.pop('G3')\n",
        "\n",
        "print(trainLabels.head())\n",
        "print(testLabels.head())"
      ],
      "execution_count": 14,
      "outputs": [
        {
          "output_type": "stream",
          "text": [
            "329    14\n",
            "318    10\n",
            "317     9\n",
            "65     15\n",
            "59     16\n",
            "Name: G3, dtype: int64\n",
            "9     15\n",
            "25     8\n",
            "28    11\n",
            "31    17\n",
            "32    16\n",
            "Name: G3, dtype: int64\n"
          ],
          "name": "stdout"
        }
      ]
    },
    {
      "cell_type": "code",
      "metadata": {
        "id": "czH6oAfqyJCQ",
        "colab": {
          "base_uri": "https://localhost:8080/"
        },
        "outputId": "1ab758b0-a9fd-46ae-d444-fdc650972cbe"
      },
      "source": [
        "print(trainFeatures.head())\n",
        "print(testFeatures.head())"
      ],
      "execution_count": 15,
      "outputs": [
        {
          "output_type": "stream",
          "text": [
            "     G1\n",
            "329  14\n",
            "318  11\n",
            "317   9\n",
            "65   16\n",
            "59   15\n",
            "    G1\n",
            "9   14\n",
            "25   6\n",
            "28  11\n",
            "31  17\n",
            "32  17\n"
          ],
          "name": "stdout"
        }
      ]
    },
    {
      "cell_type": "code",
      "metadata": {
        "id": "_xjxq3f2awsy"
      },
      "source": [
        "# univariate -> num(features) = 1\n",
        "# multvariate -> num(features) > 1 = 11\n",
        "\n",
        "\n",
        "model = tf.keras.Sequential([\n",
        "                             tf.keras.layers.Dense(1)\n",
        "\n",
        "])"
      ],
      "execution_count": 16,
      "outputs": []
    },
    {
      "cell_type": "code",
      "metadata": {
        "id": "qDFte7iTazYp"
      },
      "source": [
        "model.compile(\n",
        "    loss = 'mean_absolute_error', #minimizing the MAE loss\n",
        "    optimizer = tf.keras.optimizers.Adam(0.001), #learning rate specified as 0.001\n",
        "    # optimizer = 'adam', #takes the default learning rate\n",
        "    metrics = ['mae', 'mse'] #meanSquare and meanAbsolute error metrics\n",
        ")"
      ],
      "execution_count": 17,
      "outputs": []
    },
    {
      "cell_type": "code",
      "metadata": {
        "colab": {
          "base_uri": "https://localhost:8080/"
        },
        "id": "gu0spz_Ra1No",
        "outputId": "ebd735da-c725-4bda-8ae2-795ba173648d"
      },
      "source": [
        "numEpochs = 300\n",
        "history = model.fit(x = trainFeatures, y = trainLabels, validation_data = (testFeatures, testLabels), epochs = numEpochs)"
      ],
      "execution_count": 18,
      "outputs": [
        {
          "output_type": "stream",
          "text": [
            "Epoch 1/300\n",
            "10/10 [==============================] - 1s 21ms/step - loss: 25.9486 - mae: 25.9486 - mse: 750.9255 - val_loss: 27.4536 - val_mae: 27.4536 - val_mse: 838.1414\n",
            "Epoch 2/300\n",
            "10/10 [==============================] - 0s 5ms/step - loss: 25.8314 - mae: 25.8314 - mse: 744.3561 - val_loss: 27.3285 - val_mae: 27.3285 - val_mse: 830.6822\n",
            "Epoch 3/300\n",
            "10/10 [==============================] - 0s 3ms/step - loss: 25.7140 - mae: 25.7140 - mse: 737.7960 - val_loss: 27.2036 - val_mae: 27.2036 - val_mse: 823.2634\n",
            "Epoch 4/300\n",
            "10/10 [==============================] - 0s 4ms/step - loss: 25.5959 - mae: 25.5959 - mse: 731.1683 - val_loss: 27.0792 - val_mae: 27.0792 - val_mse: 815.9106\n",
            "Epoch 5/300\n",
            "10/10 [==============================] - 0s 4ms/step - loss: 25.4787 - mae: 25.4787 - mse: 724.6744 - val_loss: 26.9545 - val_mae: 26.9545 - val_mse: 808.5688\n",
            "Epoch 6/300\n",
            "10/10 [==============================] - 0s 4ms/step - loss: 25.3609 - mae: 25.3609 - mse: 718.1253 - val_loss: 26.8299 - val_mae: 26.8299 - val_mse: 801.2738\n",
            "Epoch 7/300\n",
            "10/10 [==============================] - 0s 3ms/step - loss: 25.2436 - mae: 25.2436 - mse: 711.6843 - val_loss: 26.7052 - val_mae: 26.7052 - val_mse: 794.0032\n",
            "Epoch 8/300\n",
            "10/10 [==============================] - 0s 3ms/step - loss: 25.1260 - mae: 25.1260 - mse: 705.2103 - val_loss: 26.5807 - val_mae: 26.5807 - val_mse: 786.7748\n",
            "Epoch 9/300\n",
            "10/10 [==============================] - 0s 3ms/step - loss: 25.0079 - mae: 25.0079 - mse: 698.7338 - val_loss: 26.4566 - val_mae: 26.4566 - val_mse: 779.6080\n",
            "Epoch 10/300\n",
            "10/10 [==============================] - 0s 3ms/step - loss: 24.8905 - mae: 24.8905 - mse: 692.3302 - val_loss: 26.3323 - val_mae: 26.3323 - val_mse: 772.4556\n",
            "Epoch 11/300\n",
            "10/10 [==============================] - 0s 3ms/step - loss: 24.7730 - mae: 24.7730 - mse: 685.9728 - val_loss: 26.2077 - val_mae: 26.2077 - val_mse: 765.3270\n",
            "Epoch 12/300\n",
            "10/10 [==============================] - 0s 4ms/step - loss: 24.6552 - mae: 24.6552 - mse: 679.6284 - val_loss: 26.0833 - val_mae: 26.0833 - val_mse: 758.2376\n",
            "Epoch 13/300\n",
            "10/10 [==============================] - 0s 4ms/step - loss: 24.5383 - mae: 24.5383 - mse: 673.3923 - val_loss: 25.9581 - val_mae: 25.9581 - val_mse: 751.1420\n",
            "Epoch 14/300\n",
            "10/10 [==============================] - 0s 4ms/step - loss: 24.4205 - mae: 24.4205 - mse: 667.1194 - val_loss: 25.8334 - val_mae: 25.8334 - val_mse: 744.1027\n",
            "Epoch 15/300\n",
            "10/10 [==============================] - 0s 4ms/step - loss: 24.3032 - mae: 24.3032 - mse: 660.9149 - val_loss: 25.7085 - val_mae: 25.7085 - val_mse: 737.0865\n",
            "Epoch 16/300\n",
            "10/10 [==============================] - 0s 4ms/step - loss: 24.1849 - mae: 24.1849 - mse: 654.6214 - val_loss: 25.5844 - val_mae: 25.5844 - val_mse: 730.1512\n",
            "Epoch 17/300\n",
            "10/10 [==============================] - 0s 4ms/step - loss: 24.0672 - mae: 24.0672 - mse: 648.3629 - val_loss: 25.4604 - val_mae: 25.4604 - val_mse: 723.2537\n",
            "Epoch 18/300\n",
            "10/10 [==============================] - 0s 4ms/step - loss: 23.9504 - mae: 23.9504 - mse: 642.3124 - val_loss: 25.3357 - val_mae: 25.3357 - val_mse: 716.3503\n",
            "Epoch 19/300\n",
            "10/10 [==============================] - 0s 4ms/step - loss: 23.8332 - mae: 23.8332 - mse: 636.2119 - val_loss: 25.2108 - val_mae: 25.2108 - val_mse: 709.4666\n",
            "Epoch 20/300\n",
            "10/10 [==============================] - 0s 3ms/step - loss: 23.7147 - mae: 23.7147 - mse: 630.0239 - val_loss: 25.0868 - val_mae: 25.0868 - val_mse: 702.6663\n",
            "Epoch 21/300\n",
            "10/10 [==============================] - 0s 4ms/step - loss: 23.5975 - mae: 23.5975 - mse: 623.9603 - val_loss: 24.9623 - val_mae: 24.9623 - val_mse: 695.8773\n",
            "Epoch 22/300\n",
            "10/10 [==============================] - 0s 3ms/step - loss: 23.4806 - mae: 23.4806 - mse: 618.0059 - val_loss: 24.8372 - val_mae: 24.8372 - val_mse: 689.0850\n",
            "Epoch 23/300\n",
            "10/10 [==============================] - 0s 3ms/step - loss: 23.3617 - mae: 23.3617 - mse: 611.8613 - val_loss: 24.7136 - val_mae: 24.7136 - val_mse: 682.4037\n",
            "Epoch 24/300\n",
            "10/10 [==============================] - 0s 4ms/step - loss: 23.2452 - mae: 23.2452 - mse: 606.0235 - val_loss: 24.5886 - val_mae: 24.5886 - val_mse: 675.6884\n",
            "Epoch 25/300\n",
            "10/10 [==============================] - 0s 4ms/step - loss: 23.1273 - mae: 23.1273 - mse: 600.0178 - val_loss: 24.4641 - val_mae: 24.4641 - val_mse: 669.0279\n",
            "Epoch 26/300\n",
            "10/10 [==============================] - 0s 4ms/step - loss: 23.0098 - mae: 23.0098 - mse: 594.1451 - val_loss: 24.3395 - val_mae: 24.3395 - val_mse: 662.3955\n",
            "Epoch 27/300\n",
            "10/10 [==============================] - 0s 4ms/step - loss: 22.8924 - mae: 22.8924 - mse: 588.2318 - val_loss: 24.2146 - val_mae: 24.2146 - val_mse: 655.7840\n",
            "Epoch 28/300\n",
            "10/10 [==============================] - 0s 4ms/step - loss: 22.7742 - mae: 22.7742 - mse: 582.3360 - val_loss: 24.0904 - val_mae: 24.0904 - val_mse: 649.2379\n",
            "Epoch 29/300\n",
            "10/10 [==============================] - 0s 3ms/step - loss: 22.6570 - mae: 22.6570 - mse: 576.5625 - val_loss: 23.9657 - val_mae: 23.9657 - val_mse: 642.7043\n",
            "Epoch 30/300\n",
            "10/10 [==============================] - 0s 3ms/step - loss: 22.5397 - mae: 22.5397 - mse: 570.7999 - val_loss: 23.8408 - val_mae: 23.8408 - val_mse: 636.1897\n",
            "Epoch 31/300\n",
            "10/10 [==============================] - 0s 4ms/step - loss: 22.4218 - mae: 22.4218 - mse: 564.9916 - val_loss: 23.7163 - val_mae: 23.7163 - val_mse: 629.7319\n",
            "Epoch 32/300\n",
            "10/10 [==============================] - 0s 3ms/step - loss: 22.3039 - mae: 22.3039 - mse: 559.1675 - val_loss: 23.5924 - val_mae: 23.5924 - val_mse: 623.3326\n",
            "Epoch 33/300\n",
            "10/10 [==============================] - 0s 3ms/step - loss: 22.1874 - mae: 22.1874 - mse: 553.5978 - val_loss: 23.4673 - val_mae: 23.4673 - val_mse: 616.9134\n",
            "Epoch 34/300\n",
            "10/10 [==============================] - 0s 4ms/step - loss: 22.0693 - mae: 22.0693 - mse: 547.8572 - val_loss: 23.3430 - val_mae: 23.3430 - val_mse: 610.5610\n",
            "Epoch 35/300\n",
            "10/10 [==============================] - 0s 4ms/step - loss: 21.9519 - mae: 21.9519 - mse: 542.2250 - val_loss: 23.2185 - val_mae: 23.2185 - val_mse: 604.2354\n",
            "Epoch 36/300\n",
            "10/10 [==============================] - 0s 4ms/step - loss: 21.8347 - mae: 21.8347 - mse: 536.6475 - val_loss: 23.0936 - val_mae: 23.0936 - val_mse: 597.9262\n",
            "Epoch 37/300\n",
            "10/10 [==============================] - 0s 4ms/step - loss: 21.7170 - mae: 21.7170 - mse: 531.0579 - val_loss: 22.9690 - val_mae: 22.9690 - val_mse: 591.6595\n",
            "Epoch 38/300\n",
            "10/10 [==============================] - 0s 4ms/step - loss: 21.5988 - mae: 21.5988 - mse: 525.4044 - val_loss: 22.8449 - val_mae: 22.8449 - val_mse: 585.4554\n",
            "Epoch 39/300\n",
            "10/10 [==============================] - 0s 5ms/step - loss: 21.4817 - mae: 21.4817 - mse: 519.9162 - val_loss: 22.7203 - val_mae: 22.7203 - val_mse: 579.2552\n",
            "Epoch 40/300\n",
            "10/10 [==============================] - 0s 5ms/step - loss: 21.3640 - mae: 21.3640 - mse: 514.4109 - val_loss: 22.5959 - val_mae: 22.5959 - val_mse: 573.1006\n",
            "Epoch 41/300\n",
            "10/10 [==============================] - 0s 5ms/step - loss: 21.2469 - mae: 21.2469 - mse: 509.0222 - val_loss: 22.4709 - val_mae: 22.4709 - val_mse: 566.9543\n",
            "Epoch 42/300\n",
            "10/10 [==============================] - 0s 4ms/step - loss: 21.1289 - mae: 21.1289 - mse: 503.5187 - val_loss: 22.3466 - val_mae: 22.3466 - val_mse: 560.8691\n",
            "Epoch 43/300\n",
            "10/10 [==============================] - 0s 4ms/step - loss: 21.0114 - mae: 21.0114 - mse: 498.0834 - val_loss: 22.2221 - val_mae: 22.2221 - val_mse: 554.8110\n",
            "Epoch 44/300\n",
            "10/10 [==============================] - 0s 4ms/step - loss: 20.8938 - mae: 20.8938 - mse: 492.7369 - val_loss: 22.0976 - val_mae: 22.0976 - val_mse: 548.7853\n",
            "Epoch 45/300\n",
            "10/10 [==============================] - 0s 4ms/step - loss: 20.7769 - mae: 20.7769 - mse: 487.4160 - val_loss: 21.9725 - val_mae: 21.9725 - val_mse: 542.7645\n",
            "Epoch 46/300\n",
            "10/10 [==============================] - 0s 4ms/step - loss: 20.6587 - mae: 20.6587 - mse: 482.0525 - val_loss: 21.8482 - val_mae: 21.8482 - val_mse: 536.8139\n",
            "Epoch 47/300\n",
            "10/10 [==============================] - 0s 4ms/step - loss: 20.5410 - mae: 20.5410 - mse: 476.7479 - val_loss: 21.7241 - val_mae: 21.7241 - val_mse: 530.9073\n",
            "Epoch 48/300\n",
            "10/10 [==============================] - 0s 3ms/step - loss: 20.4238 - mae: 20.4238 - mse: 471.5058 - val_loss: 21.5996 - val_mae: 21.5996 - val_mse: 525.0142\n",
            "Epoch 49/300\n",
            "10/10 [==============================] - 0s 3ms/step - loss: 20.3059 - mae: 20.3059 - mse: 466.1962 - val_loss: 21.4754 - val_mae: 21.4754 - val_mse: 519.1733\n",
            "Epoch 50/300\n",
            "10/10 [==============================] - 0s 3ms/step - loss: 20.1891 - mae: 20.1891 - mse: 461.0790 - val_loss: 21.3505 - val_mae: 21.3505 - val_mse: 513.3286\n",
            "Epoch 51/300\n",
            "10/10 [==============================] - 0s 3ms/step - loss: 20.0706 - mae: 20.0706 - mse: 455.8310 - val_loss: 21.2267 - val_mae: 21.2267 - val_mse: 507.5667\n",
            "Epoch 52/300\n",
            "10/10 [==============================] - 0s 4ms/step - loss: 19.9545 - mae: 19.9545 - mse: 450.8292 - val_loss: 21.1013 - val_mae: 21.1013 - val_mse: 501.7648\n",
            "Epoch 53/300\n",
            "10/10 [==============================] - 0s 4ms/step - loss: 19.8363 - mae: 19.8363 - mse: 445.6713 - val_loss: 20.9766 - val_mae: 20.9766 - val_mse: 496.0318\n",
            "Epoch 54/300\n",
            "10/10 [==============================] - 0s 4ms/step - loss: 19.7181 - mae: 19.7181 - mse: 440.5449 - val_loss: 20.8526 - val_mae: 20.8526 - val_mse: 490.3625\n",
            "Epoch 55/300\n",
            "10/10 [==============================] - 0s 4ms/step - loss: 19.6011 - mae: 19.6011 - mse: 435.5113 - val_loss: 20.7280 - val_mae: 20.7280 - val_mse: 484.6974\n",
            "Epoch 56/300\n",
            "10/10 [==============================] - 0s 3ms/step - loss: 19.4834 - mae: 19.4834 - mse: 430.4429 - val_loss: 20.6035 - val_mae: 20.6035 - val_mse: 479.0711\n",
            "Epoch 57/300\n",
            "10/10 [==============================] - 0s 4ms/step - loss: 19.3659 - mae: 19.3659 - mse: 425.4683 - val_loss: 20.4789 - val_mae: 20.4789 - val_mse: 473.4774\n",
            "Epoch 58/300\n",
            "10/10 [==============================] - 0s 4ms/step - loss: 19.2485 - mae: 19.2485 - mse: 420.5243 - val_loss: 20.3543 - val_mae: 20.3543 - val_mse: 467.9114\n",
            "Epoch 59/300\n",
            "10/10 [==============================] - 0s 4ms/step - loss: 19.1306 - mae: 19.1306 - mse: 415.5758 - val_loss: 20.2300 - val_mae: 20.2300 - val_mse: 462.3959\n",
            "Epoch 60/300\n",
            "10/10 [==============================] - 0s 4ms/step - loss: 19.0136 - mae: 19.0136 - mse: 410.7124 - val_loss: 20.1051 - val_mae: 20.1051 - val_mse: 456.8858\n",
            "Epoch 61/300\n",
            "10/10 [==============================] - 0s 4ms/step - loss: 18.8958 - mae: 18.8958 - mse: 405.8247 - val_loss: 19.9805 - val_mae: 19.9805 - val_mse: 451.4222\n",
            "Epoch 62/300\n",
            "10/10 [==============================] - 0s 4ms/step - loss: 18.7784 - mae: 18.7784 - mse: 401.0111 - val_loss: 19.8556 - val_mae: 19.8556 - val_mse: 445.9821\n",
            "Epoch 63/300\n",
            "10/10 [==============================] - 0s 4ms/step - loss: 18.6601 - mae: 18.6601 - mse: 396.1191 - val_loss: 19.7316 - val_mae: 19.7316 - val_mse: 440.6081\n",
            "Epoch 64/300\n",
            "10/10 [==============================] - 0s 4ms/step - loss: 18.5434 - mae: 18.5434 - mse: 391.3969 - val_loss: 19.6067 - val_mae: 19.6067 - val_mse: 435.2318\n",
            "Epoch 65/300\n",
            "10/10 [==============================] - 0s 4ms/step - loss: 18.4254 - mae: 18.4254 - mse: 386.6001 - val_loss: 19.4823 - val_mae: 19.4823 - val_mse: 429.9119\n",
            "Epoch 66/300\n",
            "10/10 [==============================] - 0s 4ms/step - loss: 18.3077 - mae: 18.3077 - mse: 381.8615 - val_loss: 19.3581 - val_mae: 19.3581 - val_mse: 424.6346\n",
            "Epoch 67/300\n",
            "10/10 [==============================] - 0s 3ms/step - loss: 18.1906 - mae: 18.1906 - mse: 377.2076 - val_loss: 19.2336 - val_mae: 19.2336 - val_mse: 419.3745\n",
            "Epoch 68/300\n",
            "10/10 [==============================] - 0s 3ms/step - loss: 18.0727 - mae: 18.0727 - mse: 372.4829 - val_loss: 19.1094 - val_mae: 19.1094 - val_mse: 414.1636\n",
            "Epoch 69/300\n",
            "10/10 [==============================] - 0s 3ms/step - loss: 17.9554 - mae: 17.9554 - mse: 367.8579 - val_loss: 18.9849 - val_mae: 18.9849 - val_mse: 408.9697\n",
            "Epoch 70/300\n",
            "10/10 [==============================] - 0s 4ms/step - loss: 17.8380 - mae: 17.8380 - mse: 363.2591 - val_loss: 18.8601 - val_mae: 18.8601 - val_mse: 403.8001\n",
            "Epoch 71/300\n",
            "10/10 [==============================] - 0s 6ms/step - loss: 17.7198 - mae: 17.7198 - mse: 358.6369 - val_loss: 18.7360 - val_mae: 18.7360 - val_mse: 398.6892\n",
            "Epoch 72/300\n",
            "10/10 [==============================] - 0s 4ms/step - loss: 17.6024 - mae: 17.6024 - mse: 354.0980 - val_loss: 18.6116 - val_mae: 18.6116 - val_mse: 393.6002\n",
            "Epoch 73/300\n",
            "10/10 [==============================] - 0s 4ms/step - loss: 17.4855 - mae: 17.4855 - mse: 349.6606 - val_loss: 18.4865 - val_mae: 18.4865 - val_mse: 388.5165\n",
            "Epoch 74/300\n",
            "10/10 [==============================] - 0s 4ms/step - loss: 17.3675 - mae: 17.3675 - mse: 345.1278 - val_loss: 18.3619 - val_mae: 18.3619 - val_mse: 383.4884\n",
            "Epoch 75/300\n",
            "10/10 [==============================] - 0s 4ms/step - loss: 17.2502 - mae: 17.2502 - mse: 340.7061 - val_loss: 18.2371 - val_mae: 18.2371 - val_mse: 378.4828\n",
            "Epoch 76/300\n",
            "10/10 [==============================] - 0s 3ms/step - loss: 17.1327 - mae: 17.1327 - mse: 336.2982 - val_loss: 18.1124 - val_mae: 18.1124 - val_mse: 373.5172\n",
            "Epoch 77/300\n",
            "10/10 [==============================] - 0s 4ms/step - loss: 17.0150 - mae: 17.0150 - mse: 331.8795 - val_loss: 17.9879 - val_mae: 17.9879 - val_mse: 368.5920\n",
            "Epoch 78/300\n",
            "10/10 [==============================] - 0s 5ms/step - loss: 16.8972 - mae: 16.8972 - mse: 327.4894 - val_loss: 17.8637 - val_mae: 17.8637 - val_mse: 363.7108\n",
            "Epoch 79/300\n",
            "10/10 [==============================] - 0s 3ms/step - loss: 16.7802 - mae: 16.7802 - mse: 323.1845 - val_loss: 17.7389 - val_mae: 17.7389 - val_mse: 358.8434\n",
            "Epoch 80/300\n",
            "10/10 [==============================] - 0s 4ms/step - loss: 16.6622 - mae: 16.6622 - mse: 318.8387 - val_loss: 17.6147 - val_mae: 17.6147 - val_mse: 354.0299\n",
            "Epoch 81/300\n",
            "10/10 [==============================] - 0s 4ms/step - loss: 16.5450 - mae: 16.5450 - mse: 314.5716 - val_loss: 17.4901 - val_mae: 17.4901 - val_mse: 349.2316\n",
            "Epoch 82/300\n",
            "10/10 [==============================] - 0s 4ms/step - loss: 16.4271 - mae: 16.4271 - mse: 310.2994 - val_loss: 17.3657 - val_mae: 17.3657 - val_mse: 344.4778\n",
            "Epoch 83/300\n",
            "10/10 [==============================] - 0s 4ms/step - loss: 16.3102 - mae: 16.3102 - mse: 306.1229 - val_loss: 17.2407 - val_mae: 17.2407 - val_mse: 339.7325\n",
            "Epoch 84/300\n",
            "10/10 [==============================] - 0s 4ms/step - loss: 16.1924 - mae: 16.1924 - mse: 301.9359 - val_loss: 17.1160 - val_mae: 17.1160 - val_mse: 335.0338\n",
            "Epoch 85/300\n",
            "10/10 [==============================] - 0s 4ms/step - loss: 16.0743 - mae: 16.0743 - mse: 297.7199 - val_loss: 16.9920 - val_mae: 16.9920 - val_mse: 330.3942\n",
            "Epoch 86/300\n",
            "10/10 [==============================] - 0s 4ms/step - loss: 15.9577 - mae: 15.9577 - mse: 293.6544 - val_loss: 16.8670 - val_mae: 16.8670 - val_mse: 325.7518\n",
            "Epoch 87/300\n",
            "10/10 [==============================] - 0s 4ms/step - loss: 15.8389 - mae: 15.8389 - mse: 289.4763 - val_loss: 16.7435 - val_mae: 16.7435 - val_mse: 321.1946\n",
            "Epoch 88/300\n",
            "10/10 [==============================] - 0s 4ms/step - loss: 15.7224 - mae: 15.7224 - mse: 285.4710 - val_loss: 16.6187 - val_mae: 16.6187 - val_mse: 316.6277\n",
            "Epoch 89/300\n",
            "10/10 [==============================] - 0s 4ms/step - loss: 15.6048 - mae: 15.6048 - mse: 281.4241 - val_loss: 16.4940 - val_mae: 16.4940 - val_mse: 312.0941\n",
            "Epoch 90/300\n",
            "10/10 [==============================] - 0s 4ms/step - loss: 15.4873 - mae: 15.4873 - mse: 277.4235 - val_loss: 16.3694 - val_mae: 16.3694 - val_mse: 307.5966\n",
            "Epoch 91/300\n",
            "10/10 [==============================] - 0s 4ms/step - loss: 15.3695 - mae: 15.3695 - mse: 273.4274 - val_loss: 16.2450 - val_mae: 16.2450 - val_mse: 303.1433\n",
            "Epoch 92/300\n",
            "10/10 [==============================] - 0s 4ms/step - loss: 15.2522 - mae: 15.2522 - mse: 269.4977 - val_loss: 16.1204 - val_mae: 16.1204 - val_mse: 298.7144\n",
            "Epoch 93/300\n",
            "10/10 [==============================] - 0s 5ms/step - loss: 15.1345 - mae: 15.1345 - mse: 265.5792 - val_loss: 15.9959 - val_mae: 15.9959 - val_mse: 294.3206\n",
            "Epoch 94/300\n",
            "10/10 [==============================] - 0s 4ms/step - loss: 15.0168 - mae: 15.0168 - mse: 261.6520 - val_loss: 15.8715 - val_mae: 15.8715 - val_mse: 289.9658\n",
            "Epoch 95/300\n",
            "10/10 [==============================] - 0s 4ms/step - loss: 14.8996 - mae: 14.8996 - mse: 257.8152 - val_loss: 15.7467 - val_mae: 15.7467 - val_mse: 285.6303\n",
            "Epoch 96/300\n",
            "10/10 [==============================] - 0s 4ms/step - loss: 14.7821 - mae: 14.7821 - mse: 253.9901 - val_loss: 15.6219 - val_mae: 15.6219 - val_mse: 281.3305\n",
            "Epoch 97/300\n",
            "10/10 [==============================] - 0s 3ms/step - loss: 14.6630 - mae: 14.6630 - mse: 250.0506 - val_loss: 15.4987 - val_mae: 15.4987 - val_mse: 277.1158\n",
            "Epoch 98/300\n",
            "10/10 [==============================] - 0s 4ms/step - loss: 14.5471 - mae: 14.5471 - mse: 246.3707 - val_loss: 15.3735 - val_mae: 15.3735 - val_mse: 272.8672\n",
            "Epoch 99/300\n",
            "10/10 [==============================] - 0s 4ms/step - loss: 14.4289 - mae: 14.4289 - mse: 242.6129 - val_loss: 15.2490 - val_mae: 15.2490 - val_mse: 268.6756\n",
            "Epoch 100/300\n",
            "10/10 [==============================] - 0s 4ms/step - loss: 14.3118 - mae: 14.3118 - mse: 238.9403 - val_loss: 15.1240 - val_mae: 15.1240 - val_mse: 264.5006\n",
            "Epoch 101/300\n",
            "10/10 [==============================] - 0s 4ms/step - loss: 14.1946 - mae: 14.1946 - mse: 235.2911 - val_loss: 14.9987 - val_mae: 14.9987 - val_mse: 260.3469\n",
            "Epoch 102/300\n",
            "10/10 [==============================] - 0s 4ms/step - loss: 14.0762 - mae: 14.0762 - mse: 231.5969 - val_loss: 14.8743 - val_mae: 14.8743 - val_mse: 256.2592\n",
            "Epoch 103/300\n",
            "10/10 [==============================] - 0s 4ms/step - loss: 13.9584 - mae: 13.9584 - mse: 227.9605 - val_loss: 14.7502 - val_mae: 14.7502 - val_mse: 252.2159\n",
            "Epoch 104/300\n",
            "10/10 [==============================] - 0s 4ms/step - loss: 13.8406 - mae: 13.8406 - mse: 224.3078 - val_loss: 14.6264 - val_mae: 14.6264 - val_mse: 248.2124\n",
            "Epoch 105/300\n",
            "10/10 [==============================] - 0s 4ms/step - loss: 13.7238 - mae: 13.7238 - mse: 220.7903 - val_loss: 14.5017 - val_mae: 14.5017 - val_mse: 244.2135\n",
            "Epoch 106/300\n",
            "10/10 [==============================] - 0s 6ms/step - loss: 13.6066 - mae: 13.6066 - mse: 217.3095 - val_loss: 14.3765 - val_mae: 14.3765 - val_mse: 240.2336\n",
            "Epoch 107/300\n",
            "10/10 [==============================] - 0s 4ms/step - loss: 13.4887 - mae: 13.4887 - mse: 213.7881 - val_loss: 14.2518 - val_mae: 14.2518 - val_mse: 236.3021\n",
            "Epoch 108/300\n",
            "10/10 [==============================] - 0s 4ms/step - loss: 13.3708 - mae: 13.3708 - mse: 210.2965 - val_loss: 14.1274 - val_mae: 14.1274 - val_mse: 232.4151\n",
            "Epoch 109/300\n",
            "10/10 [==============================] - 0s 4ms/step - loss: 13.2534 - mae: 13.2534 - mse: 206.8624 - val_loss: 14.0031 - val_mae: 14.0031 - val_mse: 228.5600\n",
            "Epoch 110/300\n",
            "10/10 [==============================] - 0s 4ms/step - loss: 13.1358 - mae: 13.1358 - mse: 203.4248 - val_loss: 13.8787 - val_mae: 13.8787 - val_mse: 224.7386\n",
            "Epoch 111/300\n",
            "10/10 [==============================] - 0s 4ms/step - loss: 13.0182 - mae: 13.0182 - mse: 200.0351 - val_loss: 13.7544 - val_mae: 13.7544 - val_mse: 220.9545\n",
            "Epoch 112/300\n",
            "10/10 [==============================] - 0s 4ms/step - loss: 12.9009 - mae: 12.9009 - mse: 196.6568 - val_loss: 13.6299 - val_mae: 13.6299 - val_mse: 217.1950\n",
            "Epoch 113/300\n",
            "10/10 [==============================] - 0s 4ms/step - loss: 12.7833 - mae: 12.7833 - mse: 193.3358 - val_loss: 13.5054 - val_mae: 13.5054 - val_mse: 213.4706\n",
            "Epoch 114/300\n",
            "10/10 [==============================] - 0s 4ms/step - loss: 12.6656 - mae: 12.6656 - mse: 190.0405 - val_loss: 13.3810 - val_mae: 13.3810 - val_mse: 209.7832\n",
            "Epoch 115/300\n",
            "10/10 [==============================] - 0s 4ms/step - loss: 12.5486 - mae: 12.5486 - mse: 186.7988 - val_loss: 13.2561 - val_mae: 13.2561 - val_mse: 206.1131\n",
            "Epoch 116/300\n",
            "10/10 [==============================] - 0s 3ms/step - loss: 12.4295 - mae: 12.4295 - mse: 183.4426 - val_loss: 13.1328 - val_mae: 13.1328 - val_mse: 202.5235\n",
            "Epoch 117/300\n",
            "10/10 [==============================] - 0s 3ms/step - loss: 12.3140 - mae: 12.3140 - mse: 180.3739 - val_loss: 13.0072 - val_mae: 13.0072 - val_mse: 198.8994\n",
            "Epoch 118/300\n",
            "10/10 [==============================] - 0s 4ms/step - loss: 12.1962 - mae: 12.1962 - mse: 177.1773 - val_loss: 12.8822 - val_mae: 12.8822 - val_mse: 195.3261\n",
            "Epoch 119/300\n",
            "10/10 [==============================] - 0s 4ms/step - loss: 12.0787 - mae: 12.0787 - mse: 174.0196 - val_loss: 12.7578 - val_mae: 12.7578 - val_mse: 191.8041\n",
            "Epoch 120/300\n",
            "10/10 [==============================] - 0s 4ms/step - loss: 11.9620 - mae: 11.9620 - mse: 170.9450 - val_loss: 12.6332 - val_mae: 12.6332 - val_mse: 188.3092\n",
            "Epoch 121/300\n",
            "10/10 [==============================] - 0s 4ms/step - loss: 11.8442 - mae: 11.8442 - mse: 167.7800 - val_loss: 12.5095 - val_mae: 12.5095 - val_mse: 184.8734\n",
            "Epoch 122/300\n",
            "10/10 [==============================] - 0s 4ms/step - loss: 11.7279 - mae: 11.7279 - mse: 164.7926 - val_loss: 12.3854 - val_mae: 12.3854 - val_mse: 181.4597\n",
            "Epoch 123/300\n",
            "10/10 [==============================] - 0s 4ms/step - loss: 11.6114 - mae: 11.6114 - mse: 161.7263 - val_loss: 12.2622 - val_mae: 12.2622 - val_mse: 178.1021\n",
            "Epoch 124/300\n",
            "10/10 [==============================] - 0s 4ms/step - loss: 11.4962 - mae: 11.4962 - mse: 158.7757 - val_loss: 12.1386 - val_mae: 12.1386 - val_mse: 174.7675\n",
            "Epoch 125/300\n",
            "10/10 [==============================] - 0s 5ms/step - loss: 11.3812 - mae: 11.3812 - mse: 155.8523 - val_loss: 12.0145 - val_mae: 12.0145 - val_mse: 171.4522\n",
            "Epoch 126/300\n",
            "10/10 [==============================] - 0s 4ms/step - loss: 11.2665 - mae: 11.2665 - mse: 152.9164 - val_loss: 11.8937 - val_mae: 11.8937 - val_mse: 168.2158\n",
            "Epoch 127/300\n",
            "10/10 [==============================] - 0s 4ms/step - loss: 11.1564 - mae: 11.1564 - mse: 150.1216 - val_loss: 11.7745 - val_mae: 11.7745 - val_mse: 165.0504\n",
            "Epoch 128/300\n",
            "10/10 [==============================] - 0s 4ms/step - loss: 11.0471 - mae: 11.0471 - mse: 147.3009 - val_loss: 11.6576 - val_mae: 11.6576 - val_mse: 161.9334\n",
            "Epoch 129/300\n",
            "10/10 [==============================] - 0s 5ms/step - loss: 10.9413 - mae: 10.9413 - mse: 144.5690 - val_loss: 11.5485 - val_mae: 11.5485 - val_mse: 158.8901\n",
            "Epoch 130/300\n",
            "10/10 [==============================] - 0s 4ms/step - loss: 10.8380 - mae: 10.8380 - mse: 141.8776 - val_loss: 11.4409 - val_mae: 11.4409 - val_mse: 155.9133\n",
            "Epoch 131/300\n",
            "10/10 [==============================] - 0s 4ms/step - loss: 10.7358 - mae: 10.7358 - mse: 139.2700 - val_loss: 11.3383 - val_mae: 11.3383 - val_mse: 152.9925\n",
            "Epoch 132/300\n",
            "10/10 [==============================] - 0s 4ms/step - loss: 10.6354 - mae: 10.6354 - mse: 136.6862 - val_loss: 11.2361 - val_mae: 11.2361 - val_mse: 150.1121\n",
            "Epoch 133/300\n",
            "10/10 [==============================] - 0s 4ms/step - loss: 10.5371 - mae: 10.5371 - mse: 134.1253 - val_loss: 11.1354 - val_mae: 11.1354 - val_mse: 147.3024\n",
            "Epoch 134/300\n",
            "10/10 [==============================] - 0s 4ms/step - loss: 10.4412 - mae: 10.4412 - mse: 131.6661 - val_loss: 11.0369 - val_mae: 11.0369 - val_mse: 144.5819\n",
            "Epoch 135/300\n",
            "10/10 [==============================] - 0s 4ms/step - loss: 10.3504 - mae: 10.3504 - mse: 129.2809 - val_loss: 10.9397 - val_mae: 10.9397 - val_mse: 141.9214\n",
            "Epoch 136/300\n",
            "10/10 [==============================] - 0s 5ms/step - loss: 10.2614 - mae: 10.2614 - mse: 126.9615 - val_loss: 10.8426 - val_mae: 10.8426 - val_mse: 139.2917\n",
            "Epoch 137/300\n",
            "10/10 [==============================] - 0s 6ms/step - loss: 10.1730 - mae: 10.1730 - mse: 124.6382 - val_loss: 10.7464 - val_mae: 10.7464 - val_mse: 136.7099\n",
            "Epoch 138/300\n",
            "10/10 [==============================] - 0s 4ms/step - loss: 10.0863 - mae: 10.0863 - mse: 122.4052 - val_loss: 10.6493 - val_mae: 10.6493 - val_mse: 134.1311\n",
            "Epoch 139/300\n",
            "10/10 [==============================] - 0s 4ms/step - loss: 9.9969 - mae: 9.9969 - mse: 120.0995 - val_loss: 10.5541 - val_mae: 10.5541 - val_mse: 131.6295\n",
            "Epoch 140/300\n",
            "10/10 [==============================] - 0s 6ms/step - loss: 9.9107 - mae: 9.9107 - mse: 117.9145 - val_loss: 10.4574 - val_mae: 10.4574 - val_mse: 129.1112\n",
            "Epoch 141/300\n",
            "10/10 [==============================] - 0s 4ms/step - loss: 9.8216 - mae: 9.8216 - mse: 115.6707 - val_loss: 10.3620 - val_mae: 10.3620 - val_mse: 126.6526\n",
            "Epoch 142/300\n",
            "10/10 [==============================] - 0s 4ms/step - loss: 9.7338 - mae: 9.7338 - mse: 113.4869 - val_loss: 10.2665 - val_mae: 10.2665 - val_mse: 124.2159\n",
            "Epoch 143/300\n",
            "10/10 [==============================] - 0s 4ms/step - loss: 9.6475 - mae: 9.6475 - mse: 111.3729 - val_loss: 10.1691 - val_mae: 10.1691 - val_mse: 121.7581\n",
            "Epoch 144/300\n",
            "10/10 [==============================] - 0s 4ms/step - loss: 9.5579 - mae: 9.5579 - mse: 109.1706 - val_loss: 10.0732 - val_mae: 10.0732 - val_mse: 119.3643\n",
            "Epoch 145/300\n",
            "10/10 [==============================] - 0s 4ms/step - loss: 9.4691 - mae: 9.4691 - mse: 107.0358 - val_loss: 9.9778 - val_mae: 9.9778 - val_mse: 117.0064\n",
            "Epoch 146/300\n",
            "10/10 [==============================] - 0s 4ms/step - loss: 9.3823 - mae: 9.3823 - mse: 104.9670 - val_loss: 9.8804 - val_mae: 9.8804 - val_mse: 114.6249\n",
            "Epoch 147/300\n",
            "10/10 [==============================] - 0s 4ms/step - loss: 9.2939 - mae: 9.2939 - mse: 102.8750 - val_loss: 9.7828 - val_mae: 9.7828 - val_mse: 112.2651\n",
            "Epoch 148/300\n",
            "10/10 [==============================] - 0s 4ms/step - loss: 9.2043 - mae: 9.2043 - mse: 100.7910 - val_loss: 9.6862 - val_mae: 9.6862 - val_mse: 109.9561\n",
            "Epoch 149/300\n",
            "10/10 [==============================] - 0s 4ms/step - loss: 9.1162 - mae: 9.1162 - mse: 98.7431 - val_loss: 9.5887 - val_mae: 9.5887 - val_mse: 107.6500\n",
            "Epoch 150/300\n",
            "10/10 [==============================] - 0s 4ms/step - loss: 9.0274 - mae: 9.0274 - mse: 96.7532 - val_loss: 9.4908 - val_mae: 9.4908 - val_mse: 105.3620\n",
            "Epoch 151/300\n",
            "10/10 [==============================] - 0s 4ms/step - loss: 8.9378 - mae: 8.9378 - mse: 94.6944 - val_loss: 9.3936 - val_mae: 9.3936 - val_mse: 103.1168\n",
            "Epoch 152/300\n",
            "10/10 [==============================] - 0s 4ms/step - loss: 8.8484 - mae: 8.8484 - mse: 92.6990 - val_loss: 9.2965 - val_mae: 9.2965 - val_mse: 100.8987\n",
            "Epoch 153/300\n",
            "10/10 [==============================] - 0s 4ms/step - loss: 8.7584 - mae: 8.7584 - mse: 90.7362 - val_loss: 9.2000 - val_mae: 9.2000 - val_mse: 98.7197\n",
            "Epoch 154/300\n",
            "10/10 [==============================] - 0s 4ms/step - loss: 8.6703 - mae: 8.6703 - mse: 88.8185 - val_loss: 9.1018 - val_mae: 9.1018 - val_mse: 96.5296\n",
            "Epoch 155/300\n",
            "10/10 [==============================] - 0s 4ms/step - loss: 8.5809 - mae: 8.5809 - mse: 86.8751 - val_loss: 9.0032 - val_mae: 9.0032 - val_mse: 94.3566\n",
            "Epoch 156/300\n",
            "10/10 [==============================] - 0s 4ms/step - loss: 8.4911 - mae: 8.4911 - mse: 84.9751 - val_loss: 8.9046 - val_mae: 8.9046 - val_mse: 92.2118\n",
            "Epoch 157/300\n",
            "10/10 [==============================] - 0s 4ms/step - loss: 8.4019 - mae: 8.4019 - mse: 83.0871 - val_loss: 8.8055 - val_mae: 8.8055 - val_mse: 90.0816\n",
            "Epoch 158/300\n",
            "10/10 [==============================] - 0s 6ms/step - loss: 8.3102 - mae: 8.3102 - mse: 81.2283 - val_loss: 8.7081 - val_mae: 8.7081 - val_mse: 88.0134\n",
            "Epoch 159/300\n",
            "10/10 [==============================] - 0s 6ms/step - loss: 8.2215 - mae: 8.2215 - mse: 79.3884 - val_loss: 8.6088 - val_mae: 8.6088 - val_mse: 85.9345\n",
            "Epoch 160/300\n",
            "10/10 [==============================] - 0s 4ms/step - loss: 8.1309 - mae: 8.1309 - mse: 77.5653 - val_loss: 8.5102 - val_mae: 8.5102 - val_mse: 83.8951\n",
            "Epoch 161/300\n",
            "10/10 [==============================] - 0s 5ms/step - loss: 8.0406 - mae: 8.0406 - mse: 75.7678 - val_loss: 8.4115 - val_mae: 8.4115 - val_mse: 81.8812\n",
            "Epoch 162/300\n",
            "10/10 [==============================] - 0s 4ms/step - loss: 7.9500 - mae: 7.9500 - mse: 73.9988 - val_loss: 8.3131 - val_mae: 8.3131 - val_mse: 79.8997\n",
            "Epoch 163/300\n",
            "10/10 [==============================] - 0s 5ms/step - loss: 7.8607 - mae: 7.8607 - mse: 72.2617 - val_loss: 8.2135 - val_mae: 8.2135 - val_mse: 77.9198\n",
            "Epoch 164/300\n",
            "10/10 [==============================] - 0s 4ms/step - loss: 7.7698 - mae: 7.7698 - mse: 70.5147 - val_loss: 8.1144 - val_mae: 8.1144 - val_mse: 75.9786\n",
            "Epoch 165/300\n",
            "10/10 [==============================] - 0s 6ms/step - loss: 7.6796 - mae: 7.6796 - mse: 68.7953 - val_loss: 8.0150 - val_mae: 8.0150 - val_mse: 74.0588\n",
            "Epoch 166/300\n",
            "10/10 [==============================] - 0s 4ms/step - loss: 7.5874 - mae: 7.5874 - mse: 67.1007 - val_loss: 7.9172 - val_mae: 7.9172 - val_mse: 72.1969\n",
            "Epoch 167/300\n",
            "10/10 [==============================] - 0s 4ms/step - loss: 7.4979 - mae: 7.4979 - mse: 65.4697 - val_loss: 7.8179 - val_mae: 7.8179 - val_mse: 70.3322\n",
            "Epoch 168/300\n",
            "10/10 [==============================] - 0s 5ms/step - loss: 7.4074 - mae: 7.4074 - mse: 63.8125 - val_loss: 7.7180 - val_mae: 7.7180 - val_mse: 68.4831\n",
            "Epoch 169/300\n",
            "10/10 [==============================] - 0s 4ms/step - loss: 7.3172 - mae: 7.3172 - mse: 62.2286 - val_loss: 7.6170 - val_mae: 7.6170 - val_mse: 66.6430\n",
            "Epoch 170/300\n",
            "10/10 [==============================] - 0s 4ms/step - loss: 7.2233 - mae: 7.2233 - mse: 60.5814 - val_loss: 7.5189 - val_mae: 7.5189 - val_mse: 64.8813\n",
            "Epoch 171/300\n",
            "10/10 [==============================] - 0s 4ms/step - loss: 7.1326 - mae: 7.1326 - mse: 59.0073 - val_loss: 7.4199 - val_mae: 7.4199 - val_mse: 63.1326\n",
            "Epoch 172/300\n",
            "10/10 [==============================] - 0s 4ms/step - loss: 7.0421 - mae: 7.0421 - mse: 57.4813 - val_loss: 7.3199 - val_mae: 7.3199 - val_mse: 61.3917\n",
            "Epoch 173/300\n",
            "10/10 [==============================] - 0s 3ms/step - loss: 6.9523 - mae: 6.9523 - mse: 55.9773 - val_loss: 7.2182 - val_mae: 7.2182 - val_mse: 59.6487\n",
            "Epoch 174/300\n",
            "10/10 [==============================] - 0s 4ms/step - loss: 6.8594 - mae: 6.8594 - mse: 54.4400 - val_loss: 7.1178 - val_mae: 7.1178 - val_mse: 57.9576\n",
            "Epoch 175/300\n",
            "10/10 [==============================] - 0s 4ms/step - loss: 6.7684 - mae: 6.7684 - mse: 52.9628 - val_loss: 7.0167 - val_mae: 7.0167 - val_mse: 56.2816\n",
            "Epoch 176/300\n",
            "10/10 [==============================] - 0s 4ms/step - loss: 6.6748 - mae: 6.6748 - mse: 51.4736 - val_loss: 6.9178 - val_mae: 6.9178 - val_mse: 54.6696\n",
            "Epoch 177/300\n",
            "10/10 [==============================] - 0s 4ms/step - loss: 6.5838 - mae: 6.5838 - mse: 50.0630 - val_loss: 6.8180 - val_mae: 6.8180 - val_mse: 53.0697\n",
            "Epoch 178/300\n",
            "10/10 [==============================] - 0s 5ms/step - loss: 6.4922 - mae: 6.4922 - mse: 48.6488 - val_loss: 6.7177 - val_mae: 6.7177 - val_mse: 51.4908\n",
            "Epoch 179/300\n",
            "10/10 [==============================] - 0s 5ms/step - loss: 6.4004 - mae: 6.4004 - mse: 47.2717 - val_loss: 6.6173 - val_mae: 6.6173 - val_mse: 49.9371\n",
            "Epoch 180/300\n",
            "10/10 [==============================] - 0s 4ms/step - loss: 6.3088 - mae: 6.3088 - mse: 45.8985 - val_loss: 6.5163 - val_mae: 6.5163 - val_mse: 48.4024\n",
            "Epoch 181/300\n",
            "10/10 [==============================] - 0s 4ms/step - loss: 6.2174 - mae: 6.2174 - mse: 44.5813 - val_loss: 6.4144 - val_mae: 6.4144 - val_mse: 46.8818\n",
            "Epoch 182/300\n",
            "10/10 [==============================] - 0s 5ms/step - loss: 6.1232 - mae: 6.1232 - mse: 43.2222 - val_loss: 6.3146 - val_mae: 6.3146 - val_mse: 45.4216\n",
            "Epoch 183/300\n",
            "10/10 [==============================] - 0s 5ms/step - loss: 6.0335 - mae: 6.0335 - mse: 41.9585 - val_loss: 6.2121 - val_mae: 6.2121 - val_mse: 43.9489\n",
            "Epoch 184/300\n",
            "10/10 [==============================] - 0s 4ms/step - loss: 5.9392 - mae: 5.9392 - mse: 40.6642 - val_loss: 6.1117 - val_mae: 6.1117 - val_mse: 42.5347\n",
            "Epoch 185/300\n",
            "10/10 [==============================] - 0s 4ms/step - loss: 5.8478 - mae: 5.8478 - mse: 39.4546 - val_loss: 6.0103 - val_mae: 6.0103 - val_mse: 41.1349\n",
            "Epoch 186/300\n",
            "10/10 [==============================] - 0s 4ms/step - loss: 5.7553 - mae: 5.7553 - mse: 38.2215 - val_loss: 5.9089 - val_mae: 5.9089 - val_mse: 39.7630\n",
            "Epoch 187/300\n",
            "10/10 [==============================] - 0s 5ms/step - loss: 5.6620 - mae: 5.6620 - mse: 37.0125 - val_loss: 5.8083 - val_mae: 5.8083 - val_mse: 38.4309\n",
            "Epoch 188/300\n",
            "10/10 [==============================] - 0s 4ms/step - loss: 5.5694 - mae: 5.5694 - mse: 35.8401 - val_loss: 5.7075 - val_mae: 5.7075 - val_mse: 37.1227\n",
            "Epoch 189/300\n",
            "10/10 [==============================] - 0s 5ms/step - loss: 5.4782 - mae: 5.4782 - mse: 34.7264 - val_loss: 5.6048 - val_mae: 5.6048 - val_mse: 35.8199\n",
            "Epoch 190/300\n",
            "10/10 [==============================] - 0s 4ms/step - loss: 5.3857 - mae: 5.3857 - mse: 33.5956 - val_loss: 5.5025 - val_mae: 5.5025 - val_mse: 34.5504\n",
            "Epoch 191/300\n",
            "10/10 [==============================] - 0s 5ms/step - loss: 5.2909 - mae: 5.2909 - mse: 32.4497 - val_loss: 5.4031 - val_mae: 5.4031 - val_mse: 33.3444\n",
            "Epoch 192/300\n",
            "10/10 [==============================] - 0s 4ms/step - loss: 5.1999 - mae: 5.1999 - mse: 31.3925 - val_loss: 5.3024 - val_mae: 5.3024 - val_mse: 32.1478\n",
            "Epoch 193/300\n",
            "10/10 [==============================] - 0s 4ms/step - loss: 5.1073 - mae: 5.1073 - mse: 30.3551 - val_loss: 5.2037 - val_mae: 5.2037 - val_mse: 30.9809\n",
            "Epoch 194/300\n",
            "10/10 [==============================] - 0s 4ms/step - loss: 5.0168 - mae: 5.0168 - mse: 29.3426 - val_loss: 5.1030 - val_mae: 5.1030 - val_mse: 29.8193\n",
            "Epoch 195/300\n",
            "10/10 [==============================] - 0s 6ms/step - loss: 4.9233 - mae: 4.9233 - mse: 28.3300 - val_loss: 5.0036 - val_mae: 5.0036 - val_mse: 28.7004\n",
            "Epoch 196/300\n",
            "10/10 [==============================] - 0s 4ms/step - loss: 4.8311 - mae: 4.8311 - mse: 27.3561 - val_loss: 4.9039 - val_mae: 4.9039 - val_mse: 27.6069\n",
            "Epoch 197/300\n",
            "10/10 [==============================] - 0s 4ms/step - loss: 4.7375 - mae: 4.7375 - mse: 26.4012 - val_loss: 4.8052 - val_mae: 4.8052 - val_mse: 26.5529\n",
            "Epoch 198/300\n",
            "10/10 [==============================] - 0s 4ms/step - loss: 4.6464 - mae: 4.6464 - mse: 25.4896 - val_loss: 4.7050 - val_mae: 4.7050 - val_mse: 25.5117\n",
            "Epoch 199/300\n",
            "10/10 [==============================] - 0s 4ms/step - loss: 4.5555 - mae: 4.5555 - mse: 24.6099 - val_loss: 4.6043 - val_mae: 4.6043 - val_mse: 24.4938\n",
            "Epoch 200/300\n",
            "10/10 [==============================] - 0s 5ms/step - loss: 4.4611 - mae: 4.4611 - mse: 23.7020 - val_loss: 4.5074 - val_mae: 4.5074 - val_mse: 23.5413\n",
            "Epoch 201/300\n",
            "10/10 [==============================] - 0s 4ms/step - loss: 4.3733 - mae: 4.3733 - mse: 22.8823 - val_loss: 4.4070 - val_mae: 4.4070 - val_mse: 22.5839\n",
            "Epoch 202/300\n",
            "10/10 [==============================] - 0s 4ms/step - loss: 4.2796 - mae: 4.2796 - mse: 22.0436 - val_loss: 4.3097 - val_mae: 4.3097 - val_mse: 21.6826\n",
            "Epoch 203/300\n",
            "10/10 [==============================] - 0s 4ms/step - loss: 4.1903 - mae: 4.1903 - mse: 21.2631 - val_loss: 4.2102 - val_mae: 4.2102 - val_mse: 20.7896\n",
            "Epoch 204/300\n",
            "10/10 [==============================] - 0s 4ms/step - loss: 4.0992 - mae: 4.0992 - mse: 20.4914 - val_loss: 4.1108 - val_mae: 4.1108 - val_mse: 19.9256\n",
            "Epoch 205/300\n",
            "10/10 [==============================] - 0s 4ms/step - loss: 4.0096 - mae: 4.0096 - mse: 19.7546 - val_loss: 4.0124 - val_mae: 4.0124 - val_mse: 19.0983\n",
            "Epoch 206/300\n",
            "10/10 [==============================] - 0s 5ms/step - loss: 3.9242 - mae: 3.9242 - mse: 19.0632 - val_loss: 3.9151 - val_mae: 3.9151 - val_mse: 18.3078\n",
            "Epoch 207/300\n",
            "10/10 [==============================] - 0s 4ms/step - loss: 3.8376 - mae: 3.8376 - mse: 18.3746 - val_loss: 3.8200 - val_mae: 3.8200 - val_mse: 17.5611\n",
            "Epoch 208/300\n",
            "10/10 [==============================] - 0s 5ms/step - loss: 3.7535 - mae: 3.7535 - mse: 17.7145 - val_loss: 3.7240 - val_mae: 3.7240 - val_mse: 16.8336\n",
            "Epoch 209/300\n",
            "10/10 [==============================] - 0s 5ms/step - loss: 3.6695 - mae: 3.6695 - mse: 17.1127 - val_loss: 3.6270 - val_mae: 3.6270 - val_mse: 16.1251\n",
            "Epoch 210/300\n",
            "10/10 [==============================] - 0s 4ms/step - loss: 3.5829 - mae: 3.5829 - mse: 16.4917 - val_loss: 3.5330 - val_mae: 3.5330 - val_mse: 15.4647\n",
            "Epoch 211/300\n",
            "10/10 [==============================] - 0s 4ms/step - loss: 3.5022 - mae: 3.5022 - mse: 15.9296 - val_loss: 3.4364 - val_mae: 3.4364 - val_mse: 14.8124\n",
            "Epoch 212/300\n",
            "10/10 [==============================] - 0s 4ms/step - loss: 3.4185 - mae: 3.4185 - mse: 15.3637 - val_loss: 3.3447 - val_mae: 3.3447 - val_mse: 14.1985\n",
            "Epoch 213/300\n",
            "10/10 [==============================] - 0s 4ms/step - loss: 3.3383 - mae: 3.3383 - mse: 14.8597 - val_loss: 3.2534 - val_mae: 3.2534 - val_mse: 13.6099\n",
            "Epoch 214/300\n",
            "10/10 [==============================] - 0s 5ms/step - loss: 3.2567 - mae: 3.2567 - mse: 14.3642 - val_loss: 3.1639 - val_mae: 3.1639 - val_mse: 13.0576\n",
            "Epoch 215/300\n",
            "10/10 [==============================] - 0s 5ms/step - loss: 3.1789 - mae: 3.1789 - mse: 13.8946 - val_loss: 3.0732 - val_mae: 3.0732 - val_mse: 12.5231\n",
            "Epoch 216/300\n",
            "10/10 [==============================] - 0s 4ms/step - loss: 3.0995 - mae: 3.0995 - mse: 13.4370 - val_loss: 2.9854 - val_mae: 2.9854 - val_mse: 12.0268\n",
            "Epoch 217/300\n",
            "10/10 [==============================] - 0s 5ms/step - loss: 3.0222 - mae: 3.0222 - mse: 13.0180 - val_loss: 2.8997 - val_mae: 2.8997 - val_mse: 11.5534\n",
            "Epoch 218/300\n",
            "10/10 [==============================] - 0s 4ms/step - loss: 2.9439 - mae: 2.9439 - mse: 12.6062 - val_loss: 2.8154 - val_mae: 2.8154 - val_mse: 11.1111\n",
            "Epoch 219/300\n",
            "10/10 [==============================] - 0s 5ms/step - loss: 2.8689 - mae: 2.8689 - mse: 12.2436 - val_loss: 2.7320 - val_mae: 2.7320 - val_mse: 10.6845\n",
            "Epoch 220/300\n",
            "10/10 [==============================] - 0s 5ms/step - loss: 2.7937 - mae: 2.7937 - mse: 11.8795 - val_loss: 2.6503 - val_mae: 2.6503 - val_mse: 10.2900\n",
            "Epoch 221/300\n",
            "10/10 [==============================] - 0s 5ms/step - loss: 2.7210 - mae: 2.7210 - mse: 11.5589 - val_loss: 2.5693 - val_mae: 2.5693 - val_mse: 9.9205\n",
            "Epoch 222/300\n",
            "10/10 [==============================] - 0s 4ms/step - loss: 2.6501 - mae: 2.6501 - mse: 11.2507 - val_loss: 2.4917 - val_mae: 2.4917 - val_mse: 9.5768\n",
            "Epoch 223/300\n",
            "10/10 [==============================] - 0s 4ms/step - loss: 2.5830 - mae: 2.5830 - mse: 10.9688 - val_loss: 2.4174 - val_mae: 2.4174 - val_mse: 9.2675\n",
            "Epoch 224/300\n",
            "10/10 [==============================] - 0s 4ms/step - loss: 2.5177 - mae: 2.5177 - mse: 10.7193 - val_loss: 2.3449 - val_mae: 2.3449 - val_mse: 8.9865\n",
            "Epoch 225/300\n",
            "10/10 [==============================] - 0s 4ms/step - loss: 2.4550 - mae: 2.4550 - mse: 10.4844 - val_loss: 2.2736 - val_mae: 2.2736 - val_mse: 8.7301\n",
            "Epoch 226/300\n",
            "10/10 [==============================] - 0s 4ms/step - loss: 2.4013 - mae: 2.4013 - mse: 10.2820 - val_loss: 2.2089 - val_mae: 2.2089 - val_mse: 8.5085\n",
            "Epoch 227/300\n",
            "10/10 [==============================] - 0s 4ms/step - loss: 2.3559 - mae: 2.3559 - mse: 10.1172 - val_loss: 2.1498 - val_mae: 2.1498 - val_mse: 8.3178\n",
            "Epoch 228/300\n",
            "10/10 [==============================] - 0s 4ms/step - loss: 2.3129 - mae: 2.3129 - mse: 9.9425 - val_loss: 2.0950 - val_mae: 2.0950 - val_mse: 8.1525\n",
            "Epoch 229/300\n",
            "10/10 [==============================] - 0s 4ms/step - loss: 2.2760 - mae: 2.2760 - mse: 9.8226 - val_loss: 2.0390 - val_mae: 2.0390 - val_mse: 7.9974\n",
            "Epoch 230/300\n",
            "10/10 [==============================] - 0s 7ms/step - loss: 2.2391 - mae: 2.2391 - mse: 9.7026 - val_loss: 1.9916 - val_mae: 1.9916 - val_mse: 7.8685\n",
            "Epoch 231/300\n",
            "10/10 [==============================] - 0s 4ms/step - loss: 2.2096 - mae: 2.2096 - mse: 9.6084 - val_loss: 1.9487 - val_mae: 1.9487 - val_mse: 7.7585\n",
            "Epoch 232/300\n",
            "10/10 [==============================] - 0s 5ms/step - loss: 2.1821 - mae: 2.1821 - mse: 9.5152 - val_loss: 1.9083 - val_mae: 1.9083 - val_mse: 7.6610\n",
            "Epoch 233/300\n",
            "10/10 [==============================] - 0s 4ms/step - loss: 2.1565 - mae: 2.1565 - mse: 9.4410 - val_loss: 1.8713 - val_mae: 1.8713 - val_mse: 7.5750\n",
            "Epoch 234/300\n",
            "10/10 [==============================] - 0s 4ms/step - loss: 2.1342 - mae: 2.1342 - mse: 9.3806 - val_loss: 1.8436 - val_mae: 1.8436 - val_mse: 7.5011\n",
            "Epoch 235/300\n",
            "10/10 [==============================] - 0s 4ms/step - loss: 2.1136 - mae: 2.1136 - mse: 9.3283 - val_loss: 1.8198 - val_mae: 1.8198 - val_mse: 7.4391\n",
            "Epoch 236/300\n",
            "10/10 [==============================] - 0s 4ms/step - loss: 2.0946 - mae: 2.0946 - mse: 9.2842 - val_loss: 1.7957 - val_mae: 1.7957 - val_mse: 7.3829\n",
            "Epoch 237/300\n",
            "10/10 [==============================] - 0s 4ms/step - loss: 2.0758 - mae: 2.0758 - mse: 9.2403 - val_loss: 1.7711 - val_mae: 1.7711 - val_mse: 7.3322\n",
            "Epoch 238/300\n",
            "10/10 [==============================] - 0s 5ms/step - loss: 2.0558 - mae: 2.0558 - mse: 9.2021 - val_loss: 1.7510 - val_mae: 1.7510 - val_mse: 7.2913\n",
            "Epoch 239/300\n",
            "10/10 [==============================] - 0s 4ms/step - loss: 2.0404 - mae: 2.0404 - mse: 9.1804 - val_loss: 1.7350 - val_mae: 1.7350 - val_mse: 7.2591\n",
            "Epoch 240/300\n",
            "10/10 [==============================] - 0s 4ms/step - loss: 2.0272 - mae: 2.0272 - mse: 9.1599 - val_loss: 1.7204 - val_mae: 1.7204 - val_mse: 7.2338\n",
            "Epoch 241/300\n",
            "10/10 [==============================] - 0s 4ms/step - loss: 2.0161 - mae: 2.0161 - mse: 9.1489 - val_loss: 1.7062 - val_mae: 1.7062 - val_mse: 7.2120\n",
            "Epoch 242/300\n",
            "10/10 [==============================] - 0s 4ms/step - loss: 2.0030 - mae: 2.0030 - mse: 9.1354 - val_loss: 1.6949 - val_mae: 1.6949 - val_mse: 7.1963\n",
            "Epoch 243/300\n",
            "10/10 [==============================] - 0s 4ms/step - loss: 1.9933 - mae: 1.9933 - mse: 9.1284 - val_loss: 1.6862 - val_mae: 1.6862 - val_mse: 7.1853\n",
            "Epoch 244/300\n",
            "10/10 [==============================] - 0s 4ms/step - loss: 1.9852 - mae: 1.9852 - mse: 9.1184 - val_loss: 1.6779 - val_mae: 1.6779 - val_mse: 7.1778\n",
            "Epoch 245/300\n",
            "10/10 [==============================] - 0s 4ms/step - loss: 1.9775 - mae: 1.9775 - mse: 9.1171 - val_loss: 1.6711 - val_mae: 1.6711 - val_mse: 7.1732\n",
            "Epoch 246/300\n",
            "10/10 [==============================] - 0s 4ms/step - loss: 1.9720 - mae: 1.9720 - mse: 9.1214 - val_loss: 1.6661 - val_mae: 1.6661 - val_mse: 7.1712\n",
            "Epoch 247/300\n",
            "10/10 [==============================] - 0s 4ms/step - loss: 1.9669 - mae: 1.9669 - mse: 9.1247 - val_loss: 1.6619 - val_mae: 1.6619 - val_mse: 7.1712\n",
            "Epoch 248/300\n",
            "10/10 [==============================] - 0s 4ms/step - loss: 1.9630 - mae: 1.9630 - mse: 9.1263 - val_loss: 1.6596 - val_mae: 1.6596 - val_mse: 7.1723\n",
            "Epoch 249/300\n",
            "10/10 [==============================] - 0s 4ms/step - loss: 1.9597 - mae: 1.9597 - mse: 9.1282 - val_loss: 1.6578 - val_mae: 1.6578 - val_mse: 7.1740\n",
            "Epoch 250/300\n",
            "10/10 [==============================] - 0s 4ms/step - loss: 1.9575 - mae: 1.9575 - mse: 9.1351 - val_loss: 1.6555 - val_mae: 1.6555 - val_mse: 7.1774\n",
            "Epoch 251/300\n",
            "10/10 [==============================] - 0s 4ms/step - loss: 1.9545 - mae: 1.9545 - mse: 9.1418 - val_loss: 1.6533 - val_mae: 1.6533 - val_mse: 7.1816\n",
            "Epoch 252/300\n",
            "10/10 [==============================] - 0s 4ms/step - loss: 1.9517 - mae: 1.9517 - mse: 9.1478 - val_loss: 1.6512 - val_mae: 1.6512 - val_mse: 7.1866\n",
            "Epoch 253/300\n",
            "10/10 [==============================] - 0s 4ms/step - loss: 1.9488 - mae: 1.9488 - mse: 9.1540 - val_loss: 1.6492 - val_mae: 1.6492 - val_mse: 7.1923\n",
            "Epoch 254/300\n",
            "10/10 [==============================] - 0s 4ms/step - loss: 1.9461 - mae: 1.9461 - mse: 9.1610 - val_loss: 1.6476 - val_mae: 1.6476 - val_mse: 7.1989\n",
            "Epoch 255/300\n",
            "10/10 [==============================] - 0s 4ms/step - loss: 1.9446 - mae: 1.9446 - mse: 9.1717 - val_loss: 1.6492 - val_mae: 1.6492 - val_mse: 7.2042\n",
            "Epoch 256/300\n",
            "10/10 [==============================] - 0s 4ms/step - loss: 1.9445 - mae: 1.9445 - mse: 9.1759 - val_loss: 1.6505 - val_mae: 1.6505 - val_mse: 7.2086\n",
            "Epoch 257/300\n",
            "10/10 [==============================] - 0s 5ms/step - loss: 1.9443 - mae: 1.9443 - mse: 9.1825 - val_loss: 1.6515 - val_mae: 1.6515 - val_mse: 7.2118\n",
            "Epoch 258/300\n",
            "10/10 [==============================] - 0s 4ms/step - loss: 1.9438 - mae: 1.9438 - mse: 9.1837 - val_loss: 1.6519 - val_mae: 1.6519 - val_mse: 7.2131\n",
            "Epoch 259/300\n",
            "10/10 [==============================] - 0s 5ms/step - loss: 1.9436 - mae: 1.9436 - mse: 9.1854 - val_loss: 1.6523 - val_mae: 1.6523 - val_mse: 7.2144\n",
            "Epoch 260/300\n",
            "10/10 [==============================] - 0s 4ms/step - loss: 1.9437 - mae: 1.9437 - mse: 9.1889 - val_loss: 1.6531 - val_mae: 1.6531 - val_mse: 7.2172\n",
            "Epoch 261/300\n",
            "10/10 [==============================] - 0s 6ms/step - loss: 1.9432 - mae: 1.9432 - mse: 9.1902 - val_loss: 1.6534 - val_mae: 1.6534 - val_mse: 7.2183\n",
            "Epoch 262/300\n",
            "10/10 [==============================] - 0s 6ms/step - loss: 1.9435 - mae: 1.9435 - mse: 9.1951 - val_loss: 1.6545 - val_mae: 1.6545 - val_mse: 7.2226\n",
            "Epoch 263/300\n",
            "10/10 [==============================] - 0s 4ms/step - loss: 1.9428 - mae: 1.9428 - mse: 9.1961 - val_loss: 1.6548 - val_mae: 1.6548 - val_mse: 7.2233\n",
            "Epoch 264/300\n",
            "10/10 [==============================] - 0s 5ms/step - loss: 1.9427 - mae: 1.9427 - mse: 9.1978 - val_loss: 1.6552 - val_mae: 1.6552 - val_mse: 7.2248\n",
            "Epoch 265/300\n",
            "10/10 [==============================] - 0s 4ms/step - loss: 1.9425 - mae: 1.9425 - mse: 9.1990 - val_loss: 1.6555 - val_mae: 1.6555 - val_mse: 7.2258\n",
            "Epoch 266/300\n",
            "10/10 [==============================] - 0s 4ms/step - loss: 1.9424 - mae: 1.9424 - mse: 9.2020 - val_loss: 1.6562 - val_mae: 1.6562 - val_mse: 7.2289\n",
            "Epoch 267/300\n",
            "10/10 [==============================] - 0s 5ms/step - loss: 1.9421 - mae: 1.9421 - mse: 9.2052 - val_loss: 1.6568 - val_mae: 1.6568 - val_mse: 7.2310\n",
            "Epoch 268/300\n",
            "10/10 [==============================] - 0s 4ms/step - loss: 1.9420 - mae: 1.9420 - mse: 9.2068 - val_loss: 1.6573 - val_mae: 1.6573 - val_mse: 7.2332\n",
            "Epoch 269/300\n",
            "10/10 [==============================] - 0s 6ms/step - loss: 1.9418 - mae: 1.9418 - mse: 9.2097 - val_loss: 1.6578 - val_mae: 1.6578 - val_mse: 7.2352\n",
            "Epoch 270/300\n",
            "10/10 [==============================] - 0s 5ms/step - loss: 1.9416 - mae: 1.9416 - mse: 9.2131 - val_loss: 1.6584 - val_mae: 1.6584 - val_mse: 7.2379\n",
            "Epoch 271/300\n",
            "10/10 [==============================] - 0s 4ms/step - loss: 1.9415 - mae: 1.9415 - mse: 9.2135 - val_loss: 1.6586 - val_mae: 1.6586 - val_mse: 7.2389\n",
            "Epoch 272/300\n",
            "10/10 [==============================] - 0s 4ms/step - loss: 1.9412 - mae: 1.9412 - mse: 9.2162 - val_loss: 1.6592 - val_mae: 1.6592 - val_mse: 7.2417\n",
            "Epoch 273/300\n",
            "10/10 [==============================] - 0s 4ms/step - loss: 1.9411 - mae: 1.9411 - mse: 9.2208 - val_loss: 1.6601 - val_mae: 1.6601 - val_mse: 7.2458\n",
            "Epoch 274/300\n",
            "10/10 [==============================] - 0s 5ms/step - loss: 1.9408 - mae: 1.9408 - mse: 9.2239 - val_loss: 1.6606 - val_mae: 1.6606 - val_mse: 7.2483\n",
            "Epoch 275/300\n",
            "10/10 [==============================] - 0s 4ms/step - loss: 1.9406 - mae: 1.9406 - mse: 9.2270 - val_loss: 1.6612 - val_mae: 1.6612 - val_mse: 7.2510\n",
            "Epoch 276/300\n",
            "10/10 [==============================] - 0s 4ms/step - loss: 1.9404 - mae: 1.9404 - mse: 9.2303 - val_loss: 1.6617 - val_mae: 1.6617 - val_mse: 7.2535\n",
            "Epoch 277/300\n",
            "10/10 [==============================] - 0s 4ms/step - loss: 1.9403 - mae: 1.9403 - mse: 9.2338 - val_loss: 1.6624 - val_mae: 1.6624 - val_mse: 7.2565\n",
            "Epoch 278/300\n",
            "10/10 [==============================] - 0s 4ms/step - loss: 1.9401 - mae: 1.9401 - mse: 9.2355 - val_loss: 1.6629 - val_mae: 1.6629 - val_mse: 7.2581\n",
            "Epoch 279/300\n",
            "10/10 [==============================] - 0s 4ms/step - loss: 1.9400 - mae: 1.9400 - mse: 9.2389 - val_loss: 1.6636 - val_mae: 1.6636 - val_mse: 7.2608\n",
            "Epoch 280/300\n",
            "10/10 [==============================] - 0s 5ms/step - loss: 1.9399 - mae: 1.9399 - mse: 9.2408 - val_loss: 1.6640 - val_mae: 1.6640 - val_mse: 7.2623\n",
            "Epoch 281/300\n",
            "10/10 [==============================] - 0s 5ms/step - loss: 1.9400 - mae: 1.9400 - mse: 9.2446 - val_loss: 1.6651 - val_mae: 1.6651 - val_mse: 7.2671\n",
            "Epoch 282/300\n",
            "10/10 [==============================] - 0s 6ms/step - loss: 1.9396 - mae: 1.9396 - mse: 9.2473 - val_loss: 1.6655 - val_mae: 1.6655 - val_mse: 7.2683\n",
            "Epoch 283/300\n",
            "10/10 [==============================] - 0s 4ms/step - loss: 1.9397 - mae: 1.9397 - mse: 9.2457 - val_loss: 1.6650 - val_mae: 1.6650 - val_mse: 7.2657\n",
            "Epoch 284/300\n",
            "10/10 [==============================] - 0s 4ms/step - loss: 1.9397 - mae: 1.9397 - mse: 9.2491 - val_loss: 1.6662 - val_mae: 1.6662 - val_mse: 7.2709\n",
            "Epoch 285/300\n",
            "10/10 [==============================] - 0s 5ms/step - loss: 1.9395 - mae: 1.9395 - mse: 9.2495 - val_loss: 1.6661 - val_mae: 1.6661 - val_mse: 7.2703\n",
            "Epoch 286/300\n",
            "10/10 [==============================] - 0s 5ms/step - loss: 1.9393 - mae: 1.9393 - mse: 9.2508 - val_loss: 1.6668 - val_mae: 1.6668 - val_mse: 7.2730\n",
            "Epoch 287/300\n",
            "10/10 [==============================] - 0s 4ms/step - loss: 1.9391 - mae: 1.9391 - mse: 9.2552 - val_loss: 1.6675 - val_mae: 1.6675 - val_mse: 7.2759\n",
            "Epoch 288/300\n",
            "10/10 [==============================] - 0s 5ms/step - loss: 1.9390 - mae: 1.9390 - mse: 9.2564 - val_loss: 1.6677 - val_mae: 1.6677 - val_mse: 7.2764\n",
            "Epoch 289/300\n",
            "10/10 [==============================] - 0s 5ms/step - loss: 1.9390 - mae: 1.9390 - mse: 9.2564 - val_loss: 1.6677 - val_mae: 1.6677 - val_mse: 7.2759\n",
            "Epoch 290/300\n",
            "10/10 [==============================] - 0s 4ms/step - loss: 1.9389 - mae: 1.9389 - mse: 9.2602 - val_loss: 1.6691 - val_mae: 1.6691 - val_mse: 7.2829\n",
            "Epoch 291/300\n",
            "10/10 [==============================] - 0s 4ms/step - loss: 1.9388 - mae: 1.9388 - mse: 9.2626 - val_loss: 1.6692 - val_mae: 1.6692 - val_mse: 7.2827\n",
            "Epoch 292/300\n",
            "10/10 [==============================] - 0s 5ms/step - loss: 1.9386 - mae: 1.9386 - mse: 9.2635 - val_loss: 1.6694 - val_mae: 1.6694 - val_mse: 7.2836\n",
            "Epoch 293/300\n",
            "10/10 [==============================] - 0s 4ms/step - loss: 1.9385 - mae: 1.9385 - mse: 9.2682 - val_loss: 1.6707 - val_mae: 1.6707 - val_mse: 7.2896\n",
            "Epoch 294/300\n",
            "10/10 [==============================] - 0s 5ms/step - loss: 1.9384 - mae: 1.9384 - mse: 9.2709 - val_loss: 1.6706 - val_mae: 1.6706 - val_mse: 7.2887\n",
            "Epoch 295/300\n",
            "10/10 [==============================] - 0s 4ms/step - loss: 1.9383 - mae: 1.9383 - mse: 9.2682 - val_loss: 1.6699 - val_mae: 1.6699 - val_mse: 7.2846\n",
            "Epoch 296/300\n",
            "10/10 [==============================] - 0s 5ms/step - loss: 1.9383 - mae: 1.9383 - mse: 9.2658 - val_loss: 1.6698 - val_mae: 1.6698 - val_mse: 7.2842\n",
            "Epoch 297/300\n",
            "10/10 [==============================] - 0s 5ms/step - loss: 1.9383 - mae: 1.9383 - mse: 9.2656 - val_loss: 1.6701 - val_mae: 1.6701 - val_mse: 7.2852\n",
            "Epoch 298/300\n",
            "10/10 [==============================] - 0s 4ms/step - loss: 1.9383 - mae: 1.9383 - mse: 9.2693 - val_loss: 1.6707 - val_mae: 1.6707 - val_mse: 7.2874\n",
            "Epoch 299/300\n",
            "10/10 [==============================] - 0s 5ms/step - loss: 1.9383 - mae: 1.9383 - mse: 9.2662 - val_loss: 1.6698 - val_mae: 1.6698 - val_mse: 7.2829\n",
            "Epoch 300/300\n",
            "10/10 [==============================] - 0s 5ms/step - loss: 1.9382 - mae: 1.9382 - mse: 9.2667 - val_loss: 1.6704 - val_mae: 1.6704 - val_mse: 7.2853\n"
          ],
          "name": "stdout"
        }
      ]
    },
    {
      "cell_type": "code",
      "metadata": {
        "colab": {
          "base_uri": "https://localhost:8080/"
        },
        "id": "f7YnzWmva3Rn",
        "outputId": "d8371836-f6be-405b-d056-84a6e883417d"
      },
      "source": [
        "print(history)"
      ],
      "execution_count": 19,
      "outputs": [
        {
          "output_type": "stream",
          "text": [
            "<tensorflow.python.keras.callbacks.History object at 0x7fa418cd2310>\n"
          ],
          "name": "stdout"
        }
      ]
    },
    {
      "cell_type": "code",
      "metadata": {
        "colab": {
          "base_uri": "https://localhost:8080/"
        },
        "id": "wH9JCC3wa-pX",
        "outputId": "0ab55a1c-50d6-4c84-a56a-7967ab8933e3"
      },
      "source": [
        "model.summary()"
      ],
      "execution_count": 20,
      "outputs": [
        {
          "output_type": "stream",
          "text": [
            "Model: \"sequential\"\n",
            "_________________________________________________________________\n",
            "Layer (type)                 Output Shape              Param #   \n",
            "=================================================================\n",
            "dense (Dense)                (None, 1)                 2         \n",
            "=================================================================\n",
            "Total params: 2\n",
            "Trainable params: 2\n",
            "Non-trainable params: 0\n",
            "_________________________________________________________________\n"
          ],
          "name": "stdout"
        }
      ]
    },
    {
      "cell_type": "code",
      "metadata": {
        "colab": {
          "base_uri": "https://localhost:8080/",
          "height": 1000
        },
        "id": "s0vCvjvHbAnr",
        "outputId": "f874c2b5-7de3-4c26-d25d-635d0191dfd1"
      },
      "source": [
        "# tempString = 'mse'\n",
        "def curvePlots(tempString):\n",
        "  plt.plot(history.history[tempString])\n",
        "  plt.plot(history.history[f'val_{tempString}'])\n",
        "  plt.xlabel('NumEpochs')\n",
        "  plt.ylabel(tempString)\n",
        "  plt.legend([tempString, f'val_{tempString}'])\n",
        "  plt.show()\n",
        "\n",
        "\n",
        "curvePlots('mse')\n",
        "curvePlots('mae')\n",
        "curvePlots('loss')"
      ],
      "execution_count": 21,
      "outputs": [
        {
          "output_type": "display_data",
          "data": {
            "image/png": "[encoded data removed]",
            "text/plain": [
              "<Figure size 576x396 with 1 Axes>"
            ]
          },
          "metadata": {
            "tags": []
          }
        },
        {
          "output_type": "display_data",
          "data": {
            "image/png": "[encoded data removed]",
            "text/plain": [
              "<Figure size 576x396 with 1 Axes>"
            ]
          },
          "metadata": {
            "tags": []
          }
        },
        {
          "output_type": "display_data",
          "data": {
            "image/png": "[encoded data removed]",
            "text/plain": [
              "<Figure size 576x396 with 1 Axes>"
            ]
          },
          "metadata": {
            "tags": []
          }
        }
      ]
    },
    {
      "cell_type": "code",
      "metadata": {
        "colab": {
          "base_uri": "https://localhost:8080/"
        },
        "id": "WsxnidymbCSm",
        "outputId": "5c9f9144-893e-46f8-c84b-370a73fbe7aa"
      },
      "source": [
        "model.predict([1])"
      ],
      "execution_count": 22,
      "outputs": [
        {
          "output_type": "execute_result",
          "data": {
            "text/plain": [
              "array([[2.987503]], dtype=float32)"
            ]
          },
          "metadata": {
            "tags": []
          },
          "execution_count": 22
        }
      ]
    },
    {
      "cell_type": "code",
      "metadata": {
        "colab": {
          "base_uri": "https://localhost:8080/"
        },
        "id": "BKArh__ibHEP",
        "outputId": "23215678-1537-4464-a2c7-d610880f346a"
      },
      "source": [
        "# testPreds = model.predict(testFeatures).flatten() #array of all prediction values\n",
        "\n",
        "#for single values\n",
        "\n",
        "print(f'Prediction for input value 1: {model.predict([1])}')\n",
        "\n",
        "\n",
        "# for a list of values\n",
        "tempListforPreds = [1,2,3,4,5]\n",
        "print(f'''\n",
        "\n",
        "input List = {tempListforPreds}\n",
        "\n",
        "\n",
        "List of Predictions:\n",
        "{model.predict(tempListforPreds)}\n",
        "\n",
        "List of Predictions (flattened out):\n",
        "{model.predict(tempListforPreds).flatten()}\n",
        "''')"
      ],
      "execution_count": 23,
      "outputs": [
        {
          "output_type": "stream",
          "text": [
            "Prediction for input value 1: [[2.987503]]\n",
            "\n",
            "\n",
            "input List = [1, 2, 3, 4, 5]\n",
            "\n",
            "\n",
            "List of Predictions:\n",
            "[[2.987503 ]\n",
            " [3.8069131]\n",
            " [4.626323 ]\n",
            " [5.445733 ]\n",
            " [6.2651434]]\n",
            "\n",
            "List of Predictions (flattened out):\n",
            "[2.987503  3.8069131 4.626323  5.445733  6.2651434]\n",
            "\n"
          ],
          "name": "stdout"
        }
      ]
    },
    {
      "cell_type": "code",
      "metadata": {
        "colab": {
          "base_uri": "https://localhost:8080/"
        },
        "id": "lDbsE-ttbJ1W",
        "outputId": "14fcc9e3-5214-4340-d331-ae6bff589df7"
      },
      "source": [
        "print(testFeatures)"
      ],
      "execution_count": 24,
      "outputs": [
        {
          "output_type": "stream",
          "text": [
            "     G1\n",
            "9    14\n",
            "25    6\n",
            "28   11\n",
            "31   17\n",
            "32   17\n",
            "..   ..\n",
            "365  10\n",
            "367   7\n",
            "379  10\n",
            "381   7\n",
            "393  11\n",
            "\n",
            "[79 rows x 1 columns]\n"
          ],
          "name": "stdout"
        }
      ]
    },
    {
      "cell_type": "code",
      "metadata": {
        "id": "pzDnBrixbMDL"
      },
      "source": [
        "testPreds = model.predict(testFeatures).flatten() #array of all prediction values"
      ],
      "execution_count": 25,
      "outputs": []
    },
    {
      "cell_type": "code",
      "metadata": {
        "colab": {
          "base_uri": "https://localhost:8080/"
        },
        "id": "JMsLupqJbO9G",
        "outputId": "f9e2ce4e-eef6-4c3e-bc41-cec9a2f9639f"
      },
      "source": [
        "print(len(testPreds))\n",
        "print(testPreds)"
      ],
      "execution_count": 26,
      "outputs": [
        {
          "output_type": "stream",
          "text": [
            "79\n",
            "[13.639833   7.0845537 11.181603  16.098064  16.098064  12.001014\n",
            " 13.639833  17.736885  17.736885   8.723373  13.639833  12.820424\n",
            "  8.723373   7.903963   9.542784  12.820424  11.181603  15.278654\n",
            "  7.903963  10.362194  14.459244  12.820424  13.639833  15.278654\n",
            "  7.903963   7.903963   8.723373  10.362194  12.001014  10.362194\n",
            " 12.001014  12.820424  10.362194   7.0845537  9.542784  12.001014\n",
            "  7.903963   8.723373  13.639833   9.542784   9.542784   7.903963\n",
            " 12.001014   7.0845537 12.820424   7.903963   7.903963  11.181603\n",
            " 12.820424  16.098064  12.001014  14.459244   9.542784  12.001014\n",
            " 14.459244  12.001014  14.459244  12.001014  14.459244  11.181603\n",
            " 12.001014   8.723373  15.278654   7.903963  15.278654  11.181603\n",
            " 15.278654  12.820424   8.723373   8.723373  12.001014  16.917475\n",
            " 12.820424  15.278654  10.362194   7.903963  10.362194   7.903963\n",
            " 11.181603 ]\n"
          ],
          "name": "stdout"
        }
      ]
    },
    {
      "cell_type": "code",
      "metadata": {
        "colab": {
          "base_uri": "https://localhost:8080/",
          "height": 361
        },
        "id": "NZuOzC4ibQrs",
        "outputId": "216ea1f7-f17f-42c3-c259-34dac8362d69"
      },
      "source": [
        "# prediciton plot --> how well is your model predicting across the actual labels\n",
        "\n",
        "def predPlot(labels, predictions):\n",
        "  plt.scatter(labels, predictions)\n",
        "  plt.ylabel('Predictions')\n",
        "  plt.xlabel('True Value or Labels')\n",
        "  plt.axis('equal')\n",
        "  plt.axis('square')\n",
        "  plt.xlim([0, plt.xlim()[1]])\n",
        "  plt.ylim([0, plt.ylim()[1]])\n",
        "  plt.show()\n",
        "\n",
        "predPlot(testLabels, testPreds)"
      ],
      "execution_count": 27,
      "outputs": [
        {
          "output_type": "display_data",
          "data": {
            "image/png": "[encoded data removed]",
            "text/plain": [
              "<Figure size 576x396 with 1 Axes>"
            ]
          },
          "metadata": {
            "tags": []
          }
        }
      ]
    },
    {
      "cell_type": "code",
      "metadata": {
        "colab": {
          "base_uri": "https://localhost:8080/",
          "height": 361
        },
        "id": "Q5ep9VJgbSZm",
        "outputId": "b3548e22-4db1-4c7d-99e0-bcf8d164a183"
      },
      "source": [
        "#error plot --> gaussian distribution \n",
        "\n",
        "def errorPlot(preds, labels, counts):\n",
        "  errors = preds - labels\n",
        "  plt.hist(errors, counts)\n",
        "  plt.xlabel('Error')\n",
        "  plt.ylabel('Counts')\n",
        "  plt.show()\n",
        "\n",
        "errorPlot(testPreds, testLabels, numEpochs)"
      ],
      "execution_count": 28,
      "outputs": [
        {
          "output_type": "display_data",
          "data": {
            "image/png": "[encoded data removed]",
            "text/plain": [
              "<Figure size 576x396 with 1 Axes>"
            ]
          },
          "metadata": {
            "tags": []
          }
        }
      ]
    },
    {
      "cell_type": "code",
      "metadata": {
        "id": "YOZQYGX2bUvk"
      },
      "source": [
        ""
      ],
      "execution_count": null,
      "outputs": []
    }
  ]
}